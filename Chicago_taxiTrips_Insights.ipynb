{
 "cells": [
  {
   "cell_type": "code",
   "execution_count": 4,
   "metadata": {},
   "outputs": [],
   "source": [
    "%matplotlib inline\n",
    "import matplotlib as mpl\n",
    "import matplotlib.pyplot as plt\n",
    "import pandas as pd\n",
    "import numpy as np\n",
    "import seaborn as sns\n",
    "#https://matplotlib.org/3.1.0/tutorials/index.html\n",
    "#https://seaborn.pydata.org/tutorial.html"
   ]
  },
  {
   "cell_type": "code",
   "execution_count": 1,
   "metadata": {},
   "outputs": [],
   "source": [
    "#Tutorials from the Home-page of the Bigquery from google.\n",
    "#https://cloud.google.com/bigquery/docs/tutorials\n",
    "#Ensure pip install --upgrade google-cloud-bigquery[pandas] this is installed initally.\n",
    "#set GOOGLE_APPLICATION_CREDENTIALS=[PATH], on CMD by using the servive key\n",
    "from google.cloud import bigquery\n",
    "\n",
    "# Creating an object.\n",
    "client = bigquery.Client()\n",
    "\n",
    "# Reference to dataset.\n",
    "dataset_ref = client.dataset(\"chicago_taxi_trips\", project=\"bigquery-public-data\")\n",
    "\n",
    "# Fetching data.\n",
    "dataset = client.get_dataset(dataset_ref)"
   ]
  },
  {
   "cell_type": "code",
   "execution_count": 67,
   "metadata": {},
   "outputs": [],
   "source": [
    "#https://cloud.google.com/bigquery/docs/reference/libraries#client-libraries-install-python\n",
    "#Now listing the dataset.\n",
    "tables = list(client.list_tables(dataset))\n",
    "table_name = 'Chicago_Taxi_Trips'"
   ]
  },
  {
   "cell_type": "code",
   "execution_count": 68,
   "metadata": {},
   "outputs": [
    {
     "data": {
      "text/html": [
       "<div>\n",
       "<style scoped>\n",
       "    .dataframe tbody tr th:only-of-type {\n",
       "        vertical-align: middle;\n",
       "    }\n",
       "\n",
       "    .dataframe tbody tr th {\n",
       "        vertical-align: top;\n",
       "    }\n",
       "\n",
       "    .dataframe thead th {\n",
       "        text-align: right;\n",
       "    }\n",
       "</style>\n",
       "<table border=\"1\" class=\"dataframe\">\n",
       "  <thead>\n",
       "    <tr style=\"text-align: right;\">\n",
       "      <th></th>\n",
       "      <th>unique_key</th>\n",
       "      <th>taxi_id</th>\n",
       "      <th>trip_start_timestamp</th>\n",
       "      <th>trip_end_timestamp</th>\n",
       "      <th>trip_seconds</th>\n",
       "      <th>trip_miles</th>\n",
       "      <th>pickup_census_tract</th>\n",
       "      <th>dropoff_census_tract</th>\n",
       "      <th>pickup_community_area</th>\n",
       "      <th>dropoff_community_area</th>\n",
       "      <th>...</th>\n",
       "      <th>extras</th>\n",
       "      <th>trip_total</th>\n",
       "      <th>payment_type</th>\n",
       "      <th>company</th>\n",
       "      <th>pickup_latitude</th>\n",
       "      <th>pickup_longitude</th>\n",
       "      <th>pickup_location</th>\n",
       "      <th>dropoff_latitude</th>\n",
       "      <th>dropoff_longitude</th>\n",
       "      <th>dropoff_location</th>\n",
       "    </tr>\n",
       "  </thead>\n",
       "  <tbody>\n",
       "    <tr>\n",
       "      <th>0</th>\n",
       "      <td>5617797925fa2ea420e31bde7804daf27fcb8536</td>\n",
       "      <td>73c788fff8c6a38a113b2a002b98894b888233f223d034...</td>\n",
       "      <td>2015-04-17 15:00:00+00:00</td>\n",
       "      <td>2015-04-17 15:00:00+00:00</td>\n",
       "      <td>0</td>\n",
       "      <td>0.0</td>\n",
       "      <td>None</td>\n",
       "      <td>None</td>\n",
       "      <td>None</td>\n",
       "      <td>None</td>\n",
       "      <td>...</td>\n",
       "      <td>0.0</td>\n",
       "      <td>1056.0</td>\n",
       "      <td>Credit Card</td>\n",
       "      <td>Chicago Elite Cab Corp. (Chicago Carriag</td>\n",
       "      <td>None</td>\n",
       "      <td>None</td>\n",
       "      <td>None</td>\n",
       "      <td>None</td>\n",
       "      <td>None</td>\n",
       "      <td>None</td>\n",
       "    </tr>\n",
       "    <tr>\n",
       "      <th>1</th>\n",
       "      <td>5618c6ea5e53573cc6c391eedfd30626f28120a6</td>\n",
       "      <td>803c154120d7dbec20a6e92780e4fd276ae330a9cd3185...</td>\n",
       "      <td>2014-07-27 03:15:00+00:00</td>\n",
       "      <td>2014-07-27 03:15:00+00:00</td>\n",
       "      <td>0</td>\n",
       "      <td>0.0</td>\n",
       "      <td>None</td>\n",
       "      <td>None</td>\n",
       "      <td>None</td>\n",
       "      <td>None</td>\n",
       "      <td>...</td>\n",
       "      <td>0.0</td>\n",
       "      <td>2481.0</td>\n",
       "      <td>Credit Card</td>\n",
       "      <td>Chicago Elite Cab Corp. (Chicago Carriag</td>\n",
       "      <td>None</td>\n",
       "      <td>None</td>\n",
       "      <td>None</td>\n",
       "      <td>None</td>\n",
       "      <td>None</td>\n",
       "      <td>None</td>\n",
       "    </tr>\n",
       "    <tr>\n",
       "      <th>2</th>\n",
       "      <td>561eb8269316eeafa8ae5c1d82aedfd6eb6b9d14</td>\n",
       "      <td>19adbf30524c6579e4386e81001f72b9973a747ac9753a...</td>\n",
       "      <td>2015-10-06 19:30:00+00:00</td>\n",
       "      <td>2015-10-06 19:30:00+00:00</td>\n",
       "      <td>0</td>\n",
       "      <td>0.0</td>\n",
       "      <td>None</td>\n",
       "      <td>None</td>\n",
       "      <td>None</td>\n",
       "      <td>None</td>\n",
       "      <td>...</td>\n",
       "      <td>0.0</td>\n",
       "      <td>1265.0</td>\n",
       "      <td>Cash</td>\n",
       "      <td>Chicago Elite Cab Corp. (Chicago Carriag</td>\n",
       "      <td>None</td>\n",
       "      <td>None</td>\n",
       "      <td>None</td>\n",
       "      <td>None</td>\n",
       "      <td>None</td>\n",
       "      <td>None</td>\n",
       "    </tr>\n",
       "    <tr>\n",
       "      <th>3</th>\n",
       "      <td>56208d54fa681a6cae78a0974a0a5f266b470243</td>\n",
       "      <td>f4bc2acfbb68d505b7ca37f8553ab1fc28a2686429b55d...</td>\n",
       "      <td>2015-12-07 13:00:00+00:00</td>\n",
       "      <td>2015-12-07 13:00:00+00:00</td>\n",
       "      <td>0</td>\n",
       "      <td>0.0</td>\n",
       "      <td>None</td>\n",
       "      <td>None</td>\n",
       "      <td>None</td>\n",
       "      <td>None</td>\n",
       "      <td>...</td>\n",
       "      <td>0.0</td>\n",
       "      <td>3985.0</td>\n",
       "      <td>Cash</td>\n",
       "      <td>Chicago Elite Cab Corp. (Chicago Carriag</td>\n",
       "      <td>None</td>\n",
       "      <td>None</td>\n",
       "      <td>None</td>\n",
       "      <td>None</td>\n",
       "      <td>None</td>\n",
       "      <td>None</td>\n",
       "    </tr>\n",
       "    <tr>\n",
       "      <th>4</th>\n",
       "      <td>562d6dcd0c9d867fbfbf672212b9b5138d282962</td>\n",
       "      <td>9bc3b89d49a30e5990cd30232c8caf69a5774903e9de81...</td>\n",
       "      <td>2016-01-13 16:45:00+00:00</td>\n",
       "      <td>2016-01-13 16:45:00+00:00</td>\n",
       "      <td>0</td>\n",
       "      <td>0.0</td>\n",
       "      <td>None</td>\n",
       "      <td>None</td>\n",
       "      <td>None</td>\n",
       "      <td>None</td>\n",
       "      <td>...</td>\n",
       "      <td>0.0</td>\n",
       "      <td>8130.0</td>\n",
       "      <td>Credit Card</td>\n",
       "      <td>Chicago Elite Cab Corp. (Chicago Carriag</td>\n",
       "      <td>None</td>\n",
       "      <td>None</td>\n",
       "      <td>None</td>\n",
       "      <td>None</td>\n",
       "      <td>None</td>\n",
       "      <td>None</td>\n",
       "    </tr>\n",
       "  </tbody>\n",
       "</table>\n",
       "<p>5 rows × 23 columns</p>\n",
       "</div>"
      ],
      "text/plain": [
       "                                 unique_key  \\\n",
       "0  5617797925fa2ea420e31bde7804daf27fcb8536   \n",
       "1  5618c6ea5e53573cc6c391eedfd30626f28120a6   \n",
       "2  561eb8269316eeafa8ae5c1d82aedfd6eb6b9d14   \n",
       "3  56208d54fa681a6cae78a0974a0a5f266b470243   \n",
       "4  562d6dcd0c9d867fbfbf672212b9b5138d282962   \n",
       "\n",
       "                                             taxi_id  \\\n",
       "0  73c788fff8c6a38a113b2a002b98894b888233f223d034...   \n",
       "1  803c154120d7dbec20a6e92780e4fd276ae330a9cd3185...   \n",
       "2  19adbf30524c6579e4386e81001f72b9973a747ac9753a...   \n",
       "3  f4bc2acfbb68d505b7ca37f8553ab1fc28a2686429b55d...   \n",
       "4  9bc3b89d49a30e5990cd30232c8caf69a5774903e9de81...   \n",
       "\n",
       "       trip_start_timestamp        trip_end_timestamp  trip_seconds  \\\n",
       "0 2015-04-17 15:00:00+00:00 2015-04-17 15:00:00+00:00             0   \n",
       "1 2014-07-27 03:15:00+00:00 2014-07-27 03:15:00+00:00             0   \n",
       "2 2015-10-06 19:30:00+00:00 2015-10-06 19:30:00+00:00             0   \n",
       "3 2015-12-07 13:00:00+00:00 2015-12-07 13:00:00+00:00             0   \n",
       "4 2016-01-13 16:45:00+00:00 2016-01-13 16:45:00+00:00             0   \n",
       "\n",
       "   trip_miles pickup_census_tract dropoff_census_tract pickup_community_area  \\\n",
       "0         0.0                None                 None                  None   \n",
       "1         0.0                None                 None                  None   \n",
       "2         0.0                None                 None                  None   \n",
       "3         0.0                None                 None                  None   \n",
       "4         0.0                None                 None                  None   \n",
       "\n",
       "  dropoff_community_area  ...  extras  trip_total  payment_type  \\\n",
       "0                   None  ...     0.0      1056.0   Credit Card   \n",
       "1                   None  ...     0.0      2481.0   Credit Card   \n",
       "2                   None  ...     0.0      1265.0          Cash   \n",
       "3                   None  ...     0.0      3985.0          Cash   \n",
       "4                   None  ...     0.0      8130.0   Credit Card   \n",
       "\n",
       "                                    company  pickup_latitude pickup_longitude  \\\n",
       "0  Chicago Elite Cab Corp. (Chicago Carriag             None             None   \n",
       "1  Chicago Elite Cab Corp. (Chicago Carriag             None             None   \n",
       "2  Chicago Elite Cab Corp. (Chicago Carriag             None             None   \n",
       "3  Chicago Elite Cab Corp. (Chicago Carriag             None             None   \n",
       "4  Chicago Elite Cab Corp. (Chicago Carriag             None             None   \n",
       "\n",
       "  pickup_location dropoff_latitude dropoff_longitude dropoff_location  \n",
       "0            None             None              None             None  \n",
       "1            None             None              None             None  \n",
       "2            None             None              None             None  \n",
       "3            None             None              None             None  \n",
       "4            None             None              None             None  \n",
       "\n",
       "[5 rows x 23 columns]"
      ]
     },
     "execution_count": 68,
     "metadata": {},
     "output_type": "execute_result"
    }
   ],
   "source": [
    "#Retriving the dara from public data (chicago_taxi_trips/taxi_trips).\n",
    "#Table just to et basic idea about data\n",
    "table_ref = dataset_ref.table(\"taxi_trips\")\n",
    "\n",
    "table = client.get_table(table_ref)\n",
    "\n",
    "client.list_rows(table, max_results=5).to_dataframe()"
   ]
  },
  {
   "cell_type": "code",
   "execution_count": 5,
   "metadata": {},
   "outputs": [
    {
     "name": "stdout",
     "output_type": "stream",
     "text": [
      "   year  num_trips\n",
      "0  2013   26870287\n",
      "1  2014   31021726\n",
      "2  2015   27400744\n",
      "3  2016   19878276\n",
      "4  2017    7689021\n"
     ]
    }
   ],
   "source": [
    "#Getting the taxi trips over different years.\n",
    "#https://googleapis.github.io/google-cloud-python/latest/bigquery/index.html\n",
    "trips_per_year_query = \"\"\"\n",
    "                       SELECT EXTRACT(YEAR FROM trip_start_timestamp) AS year, \n",
    "                              COUNT(1) AS num_trips\n",
    "                       FROM `bigquery-public-data.chicago_taxi_trips.taxi_trips`\n",
    "                       GROUP BY year\n",
    "                       ORDER BY year\n",
    "                       \"\"\"\n",
    "\n",
    "safe_config = bigquery.QueryJobConfig(maximum_bytes_billed=1000000000)\n",
    "query_job = client.query(trips_per_year_query, job_config=safe_config)\n",
    "\n",
    "#https://www.tutorialspoint.com/python_pandas/python_pandas_dataframe.htm\n",
    "trips_per_year = query_job.to_dataframe()\n",
    "print(trips_per_year)"
   ]
  },
  {
   "cell_type": "code",
   "execution_count": 7,
   "metadata": {},
   "outputs": [
    {
     "data": {
      "text/plain": [
       "[Text(0.5, 1.0, 'chicago taxi total trips trend')]"
      ]
     },
     "execution_count": 7,
     "metadata": {},
     "output_type": "execute_result"
    },
    {
     "data": {
      "image/png": "[encoded data removed]",
      "text/plain": [
       "<Figure size 842.4x595.44 with 1 Axes>"
      ]
     },
     "metadata": {
      "needs_background": "light"
     },
     "output_type": "display_data"
    }
   ],
   "source": [
    "a4_dims = (11.7, 8.27)\n",
    "fig, axs = plt.subplots(figsize=a4_dims,ncols=1)\n",
    "ax = sns.barplot(x=\"year\", y=\"num_trips\", data=trips_per_year)\n",
    "ax.set(title=\"chicago taxi total trips trend\")"
   ]
  },
  {
   "cell_type": "code",
   "execution_count": 70,
   "metadata": {},
   "outputs": [
    {
     "name": "stdout",
     "output_type": "stream",
     "text": [
      "   month  num_trips\n",
      "0      1    1040262\n",
      "1      2    1016484\n",
      "2      3    1293745\n",
      "3      4    1187501\n",
      "4      5    1132690\n",
      "5      6    1092557\n",
      "6      7     925711\n",
      "7      8         71\n"
     ]
    }
   ],
   "source": [
    "#Looking at the above table we can see number of trips-per-year is in order 2014>2015>2013>2016>2017.\n",
    "#https://www.governing.com/gov-data/car-ownership-numbers-of-vehicles-by-city-map.html\n",
    "#Above website shows us that vehicles-per-household increased in the year 2016 in chicago and all over USA and also the rise of UBER in 2016,resulted in sudden Dip in number-of-trips.\n",
    "#Due to incomplete data of year 2017 data is unreliable for this year. \n",
    "tripsInYear2017_per_month_query = \"\"\"\n",
    "                                       SELECT EXTRACT(MONTH FROM trip_start_timestamp) AS month, \n",
    "                                       COUNT(1) AS num_trips\n",
    "                                       FROM `bigquery-public-data.chicago_taxi_trips.taxi_trips`\n",
    "                                       WHERE EXTRACT(YEAR FROM trip_start_timestamp) = 2017\n",
    "                                       GROUP BY month\n",
    "                                       ORDER BY month\n",
    "                                  \"\"\"\n",
    "\n",
    "safe_config = bigquery.QueryJobConfig(maximum_bytes_billed=1000000000)\n",
    "query_job = client.query(tripsInYear2017_per_month_query, job_config=safe_config)\n",
    "\n",
    "per_month_result = query_job.to_dataframe()\n",
    "print(per_month_result)"
   ]
  },
  {
   "cell_type": "code",
   "execution_count": 71,
   "metadata": {},
   "outputs": [
    {
     "name": "stdout",
     "output_type": "stream",
     "text": [
      "10-cityVsTrip in year 2013  \n",
      "   number_of_rides  location\n",
      "0          4646758       NaN\n",
      "1            90416       1.0\n",
      "2            83025       2.0\n",
      "3           431814       3.0\n",
      "4           127130       4.0\n",
      "5           192152       5.0\n",
      "6          1931835       6.0\n",
      "7          1580673       7.0\n",
      "8          7251588       8.0\n",
      "9              797       9.0\n",
      " \n",
      "10-cityVsTrip in year 2014  \n",
      "   number_of_rides  location\n",
      "0          4527054       NaN\n",
      "1           108807       1.0\n",
      "2           108704       2.0\n",
      "3           494415       3.0\n",
      "4           154900       4.0\n",
      "5           217370       5.0\n",
      "6          2083481       6.0\n",
      "7          1703639       7.0\n",
      "8          8710502       8.0\n",
      "9              909       9.0\n",
      " \n",
      "10-cityVsTrip in year 2015  \n",
      "   number_of_rides  location\n",
      "0          4226875       NaN\n",
      "1            95006       1.0\n",
      "2            88127       2.0\n",
      "3           391640       3.0\n",
      "4           112246       4.0\n",
      "5           144960       5.0\n",
      "6          1546504       6.0\n",
      "7          1220882       7.0\n",
      "8          7790874       8.0\n",
      "9              773       9.0\n",
      " \n",
      "10-cityVsTrip in year 2016  \n",
      "   number_of_rides  location\n",
      "0          2757667       NaN\n",
      "1            62105       1.0\n",
      "2            63414       2.0\n",
      "3           243517       3.0\n",
      "4            66439       4.0\n",
      "5            76582       5.0\n",
      "6           951808       6.0\n",
      "7           733344       7.0\n",
      "8          5908779       8.0\n",
      "9              500       9.0\n"
     ]
    }
   ],
   "source": [
    "#trips in different city by using the pickup loaction in the dataset.\n",
    "print(\"10-cityVsTrip in year 2013  \")\n",
    "city_and_trips = \"\"\"SELECT COUNT(*) as number_of_rides,\n",
    "                    pickup_community_area as location\n",
    "                    FROM `bigquery-public-data.chicago_taxi_trips.taxi_trips`\n",
    "                    WHERE EXTRACT(YEAR FROM trip_start_timestamp) = 2013\n",
    "                    GROUP BY location\n",
    "                    ORDER BY location ASC;\n",
    "                 \"\"\"\n",
    "safe_config = bigquery.QueryJobConfig(maximum_bytes_billed=16477323265)\n",
    "query_job = client.query(city_and_trips, job_config=safe_config)\n",
    "cityrides = query_job.to_dataframe()\n",
    "print(cityrides.head(10))\n",
    "print(\" \")\n",
    "print(\"10-cityVsTrip in year 2014  \")\n",
    "city_and_trips = \"\"\"SELECT COUNT(*) as number_of_rides,\n",
    "                    pickup_community_area as location\n",
    "                    FROM `bigquery-public-data.chicago_taxi_trips.taxi_trips`\n",
    "                    WHERE EXTRACT(YEAR FROM trip_start_timestamp) = 2014\n",
    "                    GROUP BY location\n",
    "                    ORDER BY location ASC;\n",
    "                 \"\"\"\n",
    "safe_config = bigquery.QueryJobConfig(maximum_bytes_billed=16477323265)\n",
    "query_job = client.query(city_and_trips, job_config=safe_config)\n",
    "cityrides = query_job.to_dataframe()\n",
    "print(cityrides.head(10))\n",
    "print(\" \")\n",
    "print(\"10-cityVsTrip in year 2015  \")\n",
    "city_and_trips = \"\"\"SELECT COUNT(*) as number_of_rides,\n",
    "                    pickup_community_area as location\n",
    "                    FROM `bigquery-public-data.chicago_taxi_trips.taxi_trips`\n",
    "                    WHERE EXTRACT(YEAR FROM trip_start_timestamp) = 2015\n",
    "                    GROUP BY location\n",
    "                    ORDER BY location ASC;\n",
    "                 \"\"\"\n",
    "safe_config = bigquery.QueryJobConfig(maximum_bytes_billed=16477323265)\n",
    "query_job = client.query(city_and_trips, job_config=safe_config)\n",
    "cityrides = query_job.to_dataframe()\n",
    "print(cityrides.head(10))\n",
    "print(\" \")\n",
    "print(\"10-cityVsTrip in year 2016  \")\n",
    "city_and_trips = \"\"\"SELECT COUNT(*) as number_of_rides,\n",
    "                    pickup_community_area as location\n",
    "                    FROM `bigquery-public-data.chicago_taxi_trips.taxi_trips`\n",
    "                    WHERE EXTRACT(YEAR FROM trip_start_timestamp) = 2016\n",
    "                    GROUP BY location\n",
    "                    ORDER BY location ASC;\n",
    "                 \"\"\"\n",
    "safe_config = bigquery.QueryJobConfig(maximum_bytes_billed=16477323265)\n",
    "query_job = client.query(city_and_trips, job_config=safe_config)\n",
    "cityrides = query_job.to_dataframe()\n",
    "print(cityrides.head(10))"
   ]
  },
  {
   "cell_type": "code",
   "execution_count": 72,
   "metadata": {},
   "outputs": [
    {
     "data": {
      "text/plain": [
       "'We can see a pattern of increase in the number of trips from the year 2013 to 2014 and there by decrease in trips in 2015 and 2016 duw to the rise of the cab-sharing apps like UBER and LYFT in USA for a lower price than a taxi '"
      ]
     },
     "execution_count": 72,
     "metadata": {},
     "output_type": "execute_result"
    }
   ],
   "source": [
    "'''We can see a pattern of increase in the number of trips from the year 2013 to 2014 and there by decrease in trips in 2015 and 2016 duw to the rise of the cab-sharing apps like UBER and LYFT in USA for a lower price than a taxi '''"
   ]
  },
  {
   "cell_type": "code",
   "execution_count": 73,
   "metadata": {},
   "outputs": [
    {
     "name": "stdout",
     "output_type": "stream",
     "text": [
      "     number_of_rides        date\n",
      "0             231336  2012-12-30\n",
      "1             325667  2013-01-06\n",
      "2             366214  2013-01-13\n",
      "3             407147  2013-01-20\n",
      "4             395155  2013-01-27\n",
      "5             417133  2013-02-03\n",
      "6             444215  2013-02-10\n",
      "7             488276  2013-02-17\n",
      "8             493521  2013-02-24\n",
      "9             496742  2013-03-03\n",
      "10            578932  2013-03-10\n",
      "11            541598  2013-03-17\n",
      "12            419372  2013-03-24\n",
      "13            452977  2013-03-31\n",
      "14            503128  2013-04-07\n",
      "15            520122  2013-04-14\n",
      "16            508375  2013-04-21\n",
      "17            493533  2013-04-28\n",
      "18            497805  2013-05-05\n",
      "19            510734  2013-05-12\n",
      "20            531185  2013-05-19\n",
      "21            502834  2013-05-26\n",
      "22            552077  2013-06-02\n",
      "23            561233  2013-06-09\n",
      "24            540067  2013-06-16\n",
      "25            558554  2013-06-23\n",
      "26            470219  2013-06-30\n",
      "27            523040  2013-07-07\n",
      "28            578042  2013-07-14\n",
      "29            540184  2013-07-21\n",
      "..               ...         ...\n",
      "210           251502  2017-01-08\n",
      "211           237429  2017-01-15\n",
      "212           240752  2017-01-22\n",
      "213           241226  2017-01-29\n",
      "214           250125  2017-02-05\n",
      "215           249725  2017-02-12\n",
      "216           267272  2017-02-19\n",
      "217           267455  2017-02-26\n",
      "218           288494  2017-03-05\n",
      "219           300904  2017-03-12\n",
      "220           290963  2017-03-19\n",
      "221           281524  2017-03-26\n",
      "222           305043  2017-04-02\n",
      "223           264301  2017-04-09\n",
      "224           271735  2017-04-16\n",
      "225           282690  2017-04-23\n",
      "226           296561  2017-04-30\n",
      "227           262321  2017-05-07\n",
      "228           254233  2017-05-14\n",
      "229           250183  2017-05-21\n",
      "230           219849  2017-05-28\n",
      "231           269421  2017-06-04\n",
      "232           264721  2017-06-11\n",
      "233           238282  2017-06-18\n",
      "234           227124  2017-06-25\n",
      "235           179244  2017-07-02\n",
      "236           224730  2017-07-09\n",
      "237           226885  2017-07-16\n",
      "238           217988  2017-07-23\n",
      "239            47317  2017-07-30\n",
      "\n",
      "[240 rows x 2 columns]\n"
     ]
    }
   ],
   "source": [
    "#Getting the trips per day info.\n",
    "trips_per_day = \"\"\"SELECT COUNT(*) as number_of_rides,\n",
    "                   DATE_TRUNC(DATE(trip_start_timestamp), WEEK) as date\n",
    "                   FROM `bigquery-public-data.chicago_taxi_trips.taxi_trips`\n",
    "                   GROUP BY date\n",
    "                   ORDER BY date ASC;\n",
    "                \"\"\"\n",
    "\n",
    "safe_config = bigquery.QueryJobConfig(maximum_bytes_billed=16477323265)\n",
    "query_job = client.query(trips_per_day, job_config=safe_config)\n",
    "dayrides = query_job.to_dataframe()\n",
    "print(dayrides)"
   ]
  },
  {
   "cell_type": "code",
   "execution_count": 74,
   "metadata": {},
   "outputs": [
    {
     "data": {
      "text/plain": [
       "'Per day trips increased in the years 2013 and 2014 and decreased thereafter,because as stated above itself which is increase in number of vehicles in USA and also rise of  Giants like UBER'"
      ]
     },
     "execution_count": 74,
     "metadata": {},
     "output_type": "execute_result"
    }
   ],
   "source": [
    "'''Per day trips increased in the years 2013 and 2014 and decreased thereafter,because as stated above itself which is increase in number of vehicles in USA and also rise of  Giants like UBER'''"
   ]
  },
  {
   "cell_type": "code",
   "execution_count": 75,
   "metadata": {},
   "outputs": [
    {
     "name": "stdout",
     "output_type": "stream",
     "text": [
      "    distance    total_tips\n",
      "0        NaN  2.528900e+04\n",
      "1       0.00  4.353079e+09\n",
      "2       0.01  1.247300e+05\n",
      "3       0.02  1.940540e+05\n",
      "4       0.03  4.222410e+05\n",
      "5       0.04  9.156160e+05\n",
      "6       0.05  1.496076e+06\n",
      "7       0.06  2.044626e+06\n",
      "8       0.07  2.635001e+06\n",
      "9       0.08  2.997594e+06\n",
      "10      0.09  3.197102e+06\n",
      "11      0.10  2.744233e+08\n",
      "12      0.11  3.350438e+06\n",
      "13      0.12  3.248845e+06\n",
      "14      0.13  3.058875e+06\n",
      "15      0.14  2.862960e+06\n",
      "16      0.15  2.651725e+06\n",
      "17      0.16  2.568212e+06\n",
      "18      0.17  2.459925e+06\n",
      "19      0.18  2.226480e+06\n",
      "20      0.19  2.050977e+06\n",
      "21      0.20  1.490751e+08\n",
      "22      0.21  1.809031e+06\n",
      "23      0.22  1.715414e+06\n",
      "24      0.23  1.595488e+06\n",
      "25      0.24  1.532168e+06\n",
      "26      0.25  1.469775e+06\n",
      "27      0.26  1.432105e+06\n",
      "28      0.27  1.418606e+06\n",
      "29      0.28  1.548191e+06\n",
      "30      0.29  1.506232e+06\n",
      "31      0.30  1.134086e+08\n",
      "32      0.31  1.497163e+06\n",
      "33      0.32  1.452084e+06\n",
      "34      0.33  1.397855e+06\n",
      "35      0.34  1.409488e+06\n",
      "36      0.35  1.333513e+06\n",
      "37      0.36  1.288567e+06\n",
      "38      0.37  1.223799e+06\n",
      "39      0.38  1.182100e+06\n"
     ]
    }
   ],
   "source": [
    "#Getiing info on tip the driver makes in accoundance with the distance of trip.\n",
    "tips_miles =   \"\"\" SELECT trip_miles AS distance, \n",
    "                   SUM(tips) as total_tips\n",
    "                   FROM `bigquery-public-data.chicago_taxi_trips.taxi_trips`\n",
    "                   GROUP BY distance\n",
    "                   ORDER BY distance ASC;\n",
    "               \"\"\"\n",
    "\n",
    "safe_config = bigquery.QueryJobConfig(maximum_bytes_billed=16477323265)\n",
    "query_job = client.query(tips_miles, job_config=safe_config)\n",
    "tipdistance = query_job.to_dataframe()\n",
    "print(tipdistance.head(40))"
   ]
  },
  {
   "cell_type": "code",
   "execution_count": 76,
   "metadata": {},
   "outputs": [
    {
     "data": {
      "text/plain": [
       "'we can see that somewhat moderate distance has highest tip recorded'"
      ]
     },
     "execution_count": 76,
     "metadata": {},
     "output_type": "execute_result"
    }
   ],
   "source": [
    "\"\"\"we can see that somewhat moderate distance has highest tip recorded\"\"\""
   ]
  },
  {
   "cell_type": "code",
   "execution_count": 8,
   "metadata": {
    "scrolled": true
   },
   "outputs": [
    {
     "name": "stdout",
     "output_type": "stream",
     "text": [
      "  payment_mode  number_of_payments\n",
      "0         Cash            67703399\n",
      "1  Credit Card            44087311\n",
      "2      Dispute               61094\n",
      "3       Mobile                 396\n",
      "4    No Charge              720341\n",
      "5        Pcard               29700\n",
      "6       Prcard               14164\n",
      "7      Unknown              243626\n",
      "8     Way2ride                  23\n"
     ]
    }
   ],
   "source": [
    "#Getting info on payment mode generally used.\n",
    "payment_types_query = \"\"\" \n",
    "                       SELECT payment_type AS payment_mode, \n",
    "                              COUNT(1) AS number_of_payments\n",
    "                       FROM `bigquery-public-data.chicago_taxi_trips.taxi_trips`\n",
    "                       GROUP BY payment_mode\n",
    "                       ORDER BY payment_mode\n",
    "                       \"\"\"\n",
    "\n",
    "safe_config = bigquery.QueryJobConfig(maximum_bytes_billed=1000000000)\n",
    "query_job = client.query(payment_types_query, job_config=safe_config)\n",
    "\n",
    "paymentmode = query_job.to_dataframe()\n",
    "print(paymentmode)"
   ]
  },
  {
   "cell_type": "code",
   "execution_count": 9,
   "metadata": {},
   "outputs": [
    {
     "data": {
      "text/plain": [
       "[Text(0.5, 1.0, 'chicago taxi payment trend')]"
      ]
     },
     "execution_count": 9,
     "metadata": {},
     "output_type": "execute_result"
    },
    {
     "data": {
      "image/png": "[encoded data removed]",
      "text/plain": [
       "<Figure size 842.4x595.44 with 1 Axes>"
      ]
     },
     "metadata": {
      "needs_background": "light"
     },
     "output_type": "display_data"
    }
   ],
   "source": [
    "a4_dims = (11.7, 8.27)\n",
    "fig, axs = plt.subplots(figsize=a4_dims,ncols=1)\n",
    "ax = sns.barplot(x=\"payment_mode\", y=\"number_of_payments\", data=paymentmode)\n",
    "ax.set(title=\"chicago taxi payment trend\")"
   ]
  },
  {
   "cell_type": "code",
   "execution_count": 78,
   "metadata": {},
   "outputs": [
    {
     "data": {
      "text/plain": [
       "'As we can see Cash and Credit Cards are the most popular mode of transaction'"
      ]
     },
     "execution_count": 78,
     "metadata": {},
     "output_type": "execute_result"
    }
   ],
   "source": [
    "\"\"\"As we can see Cash and Credit Cards are the most popular mode of transaction\"\"\""
   ]
  },
  {
   "cell_type": "code",
   "execution_count": 12,
   "metadata": {
    "scrolled": true
   },
   "outputs": [
    {
     "name": "stdout",
     "output_type": "stream",
     "text": [
      "payment modes in the year 2013\n",
      "  payment_mode  number_of_payments\n",
      "0         Cash            18444945\n",
      "1  Credit Card             8015663\n",
      "2      Dispute               21217\n",
      "3    No Charge              288135\n",
      "4        Pcard                7973\n",
      "5       Prcard                 531\n",
      "6      Unknown               91823\n",
      " \n",
      "payment modes in the year 2014\n",
      "  payment_mode  number_of_payments\n",
      "0         Cash            19511485\n",
      "1  Credit Card            11285898\n",
      "2      Dispute               12119\n",
      "3    No Charge              154940\n",
      "4        Pcard                6690\n",
      "5       Prcard                1755\n",
      "6      Unknown               48839\n",
      " \n",
      "payment modes in the year 2015\n",
      "  payment_mode  number_of_payments\n",
      "0         Cash            15291718\n",
      "1  Credit Card            11904929\n",
      "2      Dispute               10043\n",
      "3    No Charge              140301\n",
      "4        Pcard                6396\n",
      "5       Prcard                2298\n",
      "6      Unknown               45059\n",
      " \n",
      "payment modes in the year 2016\n",
      "  payment_mode  number_of_payments\n",
      "0         Cash            10455572\n",
      "1  Credit Card             9263998\n",
      "2      Dispute               11947\n",
      "3    No Charge               99834\n",
      "4        Pcard                5256\n",
      "5       Prcard                3946\n",
      "6      Unknown               37712\n",
      "7     Way2ride                  11\n"
     ]
    }
   ],
   "source": [
    "# Now getting different modes of payments used during certain years.\n",
    "print('payment modes in the year 2013')\n",
    "payment_types_query = \"\"\" \n",
    "                       SELECT payment_type AS payment_mode, \n",
    "                              COUNT(1) AS number_of_payments\n",
    "                       FROM `bigquery-public-data.chicago_taxi_trips.taxi_trips`\n",
    "                       WHERE EXTRACT(YEAR FROM trip_start_timestamp) = 2013\n",
    "                       GROUP BY payment_mode\n",
    "                       ORDER BY payment_mode\n",
    "                       \"\"\"\n",
    "\n",
    "safe_config = bigquery.QueryJobConfig(maximum_bytes_billed=1893728257)\n",
    "query_job = client.query(payment_types_query, job_config=safe_config)\n",
    "\n",
    "paymentmode_2013 = query_job.to_dataframe()\n",
    "print(paymentmode_2013)\n",
    "print(\" \")\n",
    "print('payment modes in the year 2014')\n",
    "payment_types_query = \"\"\" \n",
    "                       SELECT payment_type AS payment_mode, \n",
    "                              COUNT(1) AS number_of_payments\n",
    "                       FROM `bigquery-public-data.chicago_taxi_trips.taxi_trips`\n",
    "                       WHERE EXTRACT(YEAR FROM trip_start_timestamp) = 2014\n",
    "                       GROUP BY payment_mode\n",
    "                       ORDER BY payment_mode\n",
    "                       \"\"\"\n",
    "\n",
    "safe_config = bigquery.QueryJobConfig(maximum_bytes_billed=1893728257)\n",
    "query_job = client.query(payment_types_query, job_config=safe_config)\n",
    "\n",
    "paymentmode_2014 = query_job.to_dataframe()\n",
    "print(paymentmode_2014)\n",
    "print(\" \")\n",
    "print('payment modes in the year 2015')\n",
    "payment_types_query = \"\"\" \n",
    "                       SELECT payment_type AS payment_mode, \n",
    "                              COUNT(1) AS number_of_payments\n",
    "                       FROM `bigquery-public-data.chicago_taxi_trips.taxi_trips`\n",
    "                       WHERE EXTRACT(YEAR FROM trip_start_timestamp) = 2015\n",
    "                       GROUP BY payment_mode\n",
    "                       ORDER BY payment_mode\n",
    "                       \"\"\"\n",
    "\n",
    "safe_config = bigquery.QueryJobConfig(maximum_bytes_billed=1893728257)\n",
    "query_job = client.query(payment_types_query, job_config=safe_config)\n",
    "\n",
    "paymentmode_2015 = query_job.to_dataframe()\n",
    "print(paymentmode_2015)\n",
    "print(\" \")\n",
    "print('payment modes in the year 2016')\n",
    "payment_types_query = \"\"\" \n",
    "                       SELECT payment_type AS payment_mode, \n",
    "                              COUNT(1) AS number_of_payments\n",
    "                       FROM `bigquery-public-data.chicago_taxi_trips.taxi_trips`\n",
    "                       WHERE EXTRACT(YEAR FROM trip_start_timestamp) = 2016\n",
    "                       GROUP BY payment_mode\n",
    "                       ORDER BY payment_mode\n",
    "                       \"\"\"\n",
    "\n",
    "safe_config = bigquery.QueryJobConfig(maximum_bytes_billed=1893728257)\n",
    "query_job = client.query(payment_types_query, job_config=safe_config)\n",
    "\n",
    "paymentmode_2016 = query_job.to_dataframe()\n",
    "print(paymentmode_2016)"
   ]
  },
  {
   "cell_type": "code",
   "execution_count": 14,
   "metadata": {},
   "outputs": [
    {
     "data": {
      "text/plain": [
       "[Text(0.5, 1.0, 'chicago taxi payment trend in 2016')]"
      ]
     },
     "execution_count": 14,
     "metadata": {},
     "output_type": "execute_result"
    },
    {
     "data": {
      "image/png": "[encoded data removed]",
      "text/plain": [
       "<Figure size 842.4x595.44 with 1 Axes>"
      ]
     },
     "metadata": {
      "needs_background": "light"
     },
     "output_type": "display_data"
    },
    {
     "data": {
      "image/png": "[encoded data removed]",
      "text/plain": [
       "<Figure size 842.4x595.44 with 1 Axes>"
      ]
     },
     "metadata": {
      "needs_background": "light"
     },
     "output_type": "display_data"
    },
    {
     "data": {
      "image/png": "[encoded data removed]",
      "text/plain": [
       "<Figure size 842.4x595.44 with 1 Axes>"
      ]
     },
     "metadata": {
      "needs_background": "light"
     },
     "output_type": "display_data"
    },
    {
     "data": {
      "image/png": "[encoded data removed]",
      "text/plain": [
       "<Figure size 842.4x595.44 with 1 Axes>"
      ]
     },
     "metadata": {
      "needs_background": "light"
     },
     "output_type": "display_data"
    }
   ],
   "source": [
    "a4_dims = (11.7, 8.27)\n",
    "fig, axs = plt.subplots(figsize=a4_dims,ncols=1)\n",
    "ax = sns.barplot(x=\"payment_mode\", y=\"number_of_payments\", data=paymentmode_2013)\n",
    "ax.set(title=\"chicago taxi payment trend in 2013\")\n",
    "fig, axs = plt.subplots(figsize=a4_dims,ncols=1)\n",
    "ax = sns.barplot(x=\"payment_mode\", y=\"number_of_payments\", data=paymentmode_2014)\n",
    "ax.set(title=\"chicago taxi payment trend in 2014\")\n",
    "fig, axs = plt.subplots(figsize=a4_dims,ncols=1)\n",
    "ax = sns.barplot(x=\"payment_mode\", y=\"number_of_payments\", data=paymentmode_2015)\n",
    "ax.set(title=\"chicago taxi payment trend in 2015\")\n",
    "fig, axs = plt.subplots(figsize=a4_dims,ncols=1)\n",
    "ax = sns.barplot(x=\"payment_mode\", y=\"number_of_payments\", data=paymentmode_2016)\n",
    "ax.set(title=\"chicago taxi payment trend in 2016\")"
   ]
  },
  {
   "cell_type": "code",
   "execution_count": 80,
   "metadata": {},
   "outputs": [
    {
     "data": {
      "text/plain": [
       "'As we can see cash dominated as a payment mode throught years followed by credit card'"
      ]
     },
     "execution_count": 80,
     "metadata": {},
     "output_type": "execute_result"
    }
   ],
   "source": [
    "\"\"\"As we can see cash dominated as a payment mode throught years followed by credit card\"\"\""
   ]
  },
  {
   "cell_type": "code",
   "execution_count": 81,
   "metadata": {},
   "outputs": [
    {
     "name": "stdout",
     "output_type": "stream",
     "text": [
      "  minutes_range  total_trips average_fare\n",
      "0    01m to 09m     50293753       664.62\n",
      "1    09m to 18m     31706489      1141.71\n",
      "2    18m to 27m     10291825      2301.31\n",
      "3    27m to 36m      4695487      3202.48\n",
      "4    36m to 45m      2455987      3709.86\n",
      "5    45m to 54m      1349632      4020.95\n",
      "6    54m to 63m       702834      4289.13\n",
      "7    63m to 72m       342621      4527.14\n",
      "8    72m to 81m       164810      4893.22\n",
      "9    81m to 90m        79299      5215.52\n"
     ]
    }
   ],
   "source": [
    "fares_fixture_query = \"\"\"SELECT\n",
    "                            FORMAT('%02.0fm to %02.0fm', min_minutes, max_minutes) AS minutes_range,\n",
    "                            SUM(trips) AS total_trips,\n",
    "                            FORMAT('%3.2f', SUM(total_fare) / SUM(trips)) AS average_fare\n",
    "                            FROM (\n",
    "                                SELECT\n",
    "                                MIN(duration_in_minutes) OVER (quantiles) AS min_minutes,\n",
    "                                MAX(duration_in_minutes) OVER (quantiles) AS max_minutes,\n",
    "                                SUM(trips) AS trips,\n",
    "                                SUM(total_fare) AS total_fare\n",
    "                                FROM (\n",
    "                                    SELECT\n",
    "                                    ROUND(trip_seconds / 60) AS duration_in_minutes,\n",
    "                                    NTILE(10) OVER (ORDER BY trip_seconds / 60) AS quantile,\n",
    "                                    COUNT(1) AS trips,\n",
    "                                    SUM(fare) AS total_fare\n",
    "                                    FROM\n",
    "                                    `bigquery-public-data.chicago_taxi_trips.taxi_trips`\n",
    "                                    WHERE\n",
    "                                    ROUND(trip_seconds / 60) BETWEEN 1 AND 90\n",
    "                                    GROUP BY\n",
    "                                    trip_seconds,\n",
    "                                duration_in_minutes\n",
    "                                    )\n",
    "                                GROUP BY\n",
    "                                duration_in_minutes,\n",
    "                                quantile\n",
    "                                WINDOW quantiles AS (PARTITION BY quantile)\n",
    "                               )\n",
    "                            GROUP BY\n",
    "                            minutes_range\n",
    "                            ORDER BY\n",
    "                            Minutes_range\n",
    "                        \"\"\"\n",
    "safe_config = bigquery.QueryJobConfig(maximum_bytes_billed=1893728257)\n",
    "query_job = client.query(fares_fixture_query, job_config=safe_config)\n",
    "\n",
    "fares = query_job.to_dataframe()\n",
    "print(fares.head(10))"
   ]
  },
  {
   "cell_type": "code",
   "execution_count": 82,
   "metadata": {},
   "outputs": [
    {
     "data": {
      "text/plain": [
       "'So we can see that as the duration of trip is increased so is the average fare.'"
      ]
     },
     "execution_count": 82,
     "metadata": {},
     "output_type": "execute_result"
    }
   ],
   "source": [
    "\"\"\"So we can see that as the duration of trip is increased so is the average fare.\"\"\""
   ]
  },
  {
   "cell_type": "code",
   "execution_count": 83,
   "metadata": {
    "scrolled": true
   },
   "outputs": [
    {
     "name": "stdout",
     "output_type": "stream",
     "text": [
      "max, min and avg fares for rides lasting 13 minutes or more\n",
      "   day maximum_fare minimum_fare avg_fare    rides\n",
      "0    1    990041.00         0.00  2293.75  4613999\n",
      "1    2    990042.00         0.00  2465.46  4542218\n",
      "2    3    990041.00         0.00  2320.45  4704067\n",
      "3    4    982504.00         0.00  2310.53  5100048\n",
      "4    5    970208.00         0.00  2272.84  5600671\n",
      "5    6    990045.00         0.00  2119.91  6348908\n",
      "6    7    990021.00         0.00  1887.64  5631300\n",
      "max, min and avg fares for rides lasting 13 minutes or less\n",
      "   day maximum_fare minimum_fare avg_fare     rides\n",
      "0    1    996666.00         0.00   849.92  10248886\n",
      "1    2    989898.00         0.00   848.49   9725356\n",
      "2    3    927791.00         0.00   830.33  10600317\n",
      "3    4    999999.00         0.00   828.15  11050553\n",
      "4    5    940020.00         0.00   825.80  11650563\n",
      "5    6    972585.00         0.00   814.43  12878582\n",
      "6    7    992939.00         0.00   812.79  12704345\n"
     ]
    }
   ],
   "source": [
    "#select AVG(trip_seconds/60)\n",
    "#FROM `bigquery-public-data.chicago_taxi_trips.taxi_trips`\n",
    "#As we have average trip time is around 13 minutes\n",
    "#Now we can get max, min and avg fares for rides lasting 13 minutes or more VS 13 minutes or less\n",
    "print('max, min and avg fares for rides lasting 13 minutes or more')\n",
    "max_min_avg_query = \"\"\"   SELECT\n",
    "                          EXTRACT(DAYOFWEEK FROM trip_start_timestamp) AS day,\n",
    "                          FORMAT('%3.2f', MAX(fare)) AS maximum_fare,\n",
    "                          FORMAT('%3.2f', MIN(fare)) AS minimum_fare,\n",
    "                          FORMAT('%3.2f', AVG(fare)) AS avg_fare,\n",
    "                          COUNT(1) AS rides\n",
    "                        FROM\n",
    "                          `bigquery-public-data.chicago_taxi_trips.taxi_trips`\n",
    "                        WHERE\n",
    "                          trip_seconds >= 780\n",
    "                        GROUP BY\n",
    "                          day\n",
    "                        ORDER BY\n",
    "                          day\n",
    "                  \"\"\"\n",
    "safe_config = bigquery.QueryJobConfig(maximum_bytes_billed=2699034625)\n",
    "query_job = client.query(max_min_avg_query, job_config=safe_config)\n",
    "\n",
    "fares_range = query_job.to_dataframe()\n",
    "print(fares_range.head(10))\n",
    "print('max, min and avg fares for rides lasting 13 minutes or less')\n",
    "max_min_avg_query = \"\"\"   SELECT\n",
    "                          EXTRACT(DAYOFWEEK FROM trip_start_timestamp) AS day,\n",
    "                          FORMAT('%3.2f', MAX(fare)) AS maximum_fare,\n",
    "                          FORMAT('%3.2f', MIN(fare)) AS minimum_fare,\n",
    "                          FORMAT('%3.2f', AVG(fare)) AS avg_fare,\n",
    "                          COUNT(1) AS rides\n",
    "                        FROM\n",
    "                          `bigquery-public-data.chicago_taxi_trips.taxi_trips`\n",
    "                        WHERE\n",
    "                          trip_seconds <= 780\n",
    "                        GROUP BY\n",
    "                          day\n",
    "                        ORDER BY\n",
    "                          day\n",
    "                  \"\"\"\n",
    "safe_config = bigquery.QueryJobConfig(maximum_bytes_billed=2699034625)\n",
    "query_job = client.query(max_min_avg_query, job_config=safe_config)\n",
    "\n",
    "fares_range = query_job.to_dataframe()\n",
    "print(fares_range.head(10))"
   ]
  },
  {
   "cell_type": "code",
   "execution_count": 85,
   "metadata": {},
   "outputs": [
    {
     "data": {
      "text/plain": [
       "'We notice that for trips having travel time greater than average has more of average fare though the number of such rides are small in number.'"
      ]
     },
     "execution_count": 85,
     "metadata": {},
     "output_type": "execute_result"
    }
   ],
   "source": [
    "\"\"\"We notice that for trips having travel time greater than average has more of average fare though the number of such rides are small in number.\"\"\""
   ]
  },
  {
   "cell_type": "code",
   "execution_count": 86,
   "metadata": {},
   "outputs": [
    {
     "name": "stdout",
     "output_type": "stream",
     "text": [
      "    time_of_day  num_trips  avg_speed\n",
      "0             0    2220733  18.461431\n",
      "1             1    1847834  17.866432\n",
      "2             2    1452141  17.130175\n",
      "3             3    1054286  16.736885\n",
      "4             4     696598  20.892527\n",
      "5             5     565413  26.512792\n",
      "6             6     753280  23.815296\n",
      "7             7    1388859  17.645224\n",
      "8             8    2210689  14.941718\n",
      "9             9    2608380  15.531860\n",
      "10           10    2529339  17.635231\n",
      "11           11    2603282  18.603329\n",
      "12           12    2823897  17.762699\n",
      "13           13    2880061  17.237637\n",
      "14           14    2843174  16.767961\n",
      "15           15    2892020  15.757695\n",
      "16           16    3070224  14.534025\n",
      "17           17    3378958  12.959096\n",
      "18           18    3813928  12.965152\n",
      "19           19    3949439  14.770394\n",
      "20           20    3564727  17.150190\n",
      "21           21    3163607  19.049006\n",
      "22           22    3010351  18.770592\n",
      "23           23    2685529  18.297392\n"
     ]
    }
   ],
   "source": [
    "#Getting the average speed of taxis between 2014 and 2016 at different hours in a day.\n",
    "speeds_in_Day_query = \"\"\"\n",
    "                           WITH Rides AS\n",
    "                           (\n",
    "                               SELECT EXTRACT(HOUR FROM trip_start_timestamp) AS time_of_day, \n",
    "                              trip_miles, \n",
    "                              trip_seconds\n",
    "                           FROM `bigquery-public-data.chicago_taxi_trips.taxi_trips`\n",
    "                               WHERE trip_start_timestamp >= '2014-01-01' AND \n",
    "                             trip_start_timestamp <= '2016-12-31' AND \n",
    "                             trip_seconds > 0 AND \n",
    "                             trip_miles > 0\n",
    "                           )\n",
    "                           SELECT time_of_day, \n",
    "                           COUNT(1) AS num_trips, \n",
    "                           3600 * SUM(trip_miles) / SUM(trip_seconds) AS avg_speed\n",
    "                           FROM Rides\n",
    "                           GROUP BY time_of_day\n",
    "                           ORDER BY time_of_day\n",
    "                      \"\"\"\n",
    "\n",
    "safe_config = bigquery.QueryJobConfig(maximum_bytes_billed=2699034625)\n",
    "query_job = client.query(speeds_in_Day_query, job_config=safe_config)\n",
    "\n",
    "speeds_avg_in_a_day = query_job.to_dataframe()\n",
    "\n",
    "print(speeds_avg_in_a_day)"
   ]
  },
  {
   "cell_type": "code",
   "execution_count": 87,
   "metadata": {},
   "outputs": [
    {
     "data": {
      "text/plain": [
       "' We see that taxi drivers usually travel faster in 4am-6am and 8pm-12am'"
      ]
     },
     "execution_count": 87,
     "metadata": {},
     "output_type": "execute_result"
    }
   ],
   "source": [
    "\"\"\" We see that taxi drivers usually travel faster in 4am-6am and 8pm-12am\"\"\""
   ]
  },
  {
   "cell_type": "code",
   "execution_count": 17,
   "metadata": {
    "scrolled": true
   },
   "outputs": [
    {
     "name": "stdout",
     "output_type": "stream",
     "text": [
      "                                              taxi_id  yearly_pay  year\n",
      "0   ec84a47de06d11f386d9d4addf9edcd0211c093c4ccde5...   5261577.0  2013\n",
      "1   429013bada92513f2d8a2fa3c226446776ee6159dce544...   8782429.0  2013\n",
      "2   ede88450874f06f67a06c0b2bba8f548410f8be4dbd59d...   1002097.0  2013\n",
      "3   9068df481fee5a9c7852905ac35bd29287854f7965ce1c...   3765420.0  2013\n",
      "4   0156573f07d7ebbb61b0edfd4d783d2762fd0cc74d8221...  10634661.0  2013\n",
      "5   51510e6801fd5dfa9232c990f9578c24febaf1cacdba40...   9358860.0  2013\n",
      "6   2b46ceca0b867def0d79ffb6871d8f1678cf4b199d9f9e...  10075784.0  2013\n",
      "7   a5b3beab75842687197791c7d0540875aa7a4501d57805...   7205982.0  2013\n",
      "8   a9bc5e55dd09e8687769a853fe4e67226f1e16b649e7bc...   6558924.0  2013\n",
      "9   80e02ffa14d3aa8e99d3fdce86a497a3eabc35005fc496...   1439405.0  2013\n",
      "10  9e402f28d4da35014d6f3171cf85336476cebfccf79048...   2973422.0  2013\n",
      "11  020531ad67ef679261206ce9876298202b29824371fcf9...   4327900.0  2013\n",
      "12  b1b569038610549b618e4fe62e3379b25606f7a3fc6f30...  11026866.0  2013\n",
      "13  79dcc8825d21951e84e926e8a07616cd022b91a09380e1...   4721360.0  2013\n",
      "14  3999f1ab26daf46b5ae16bd189247b82a5634f2a6d2938...   7834913.0  2013\n",
      "15  e6a8d59b08b735bf949c799157ae2cc11a0c99fe05e904...   2836245.0  2013\n",
      "16  75a6a6b4e014d27ba8e94667fb0c2feb9f17227df8305c...   2278933.0  2013\n",
      "17  37f6a145435a3b1451354f62e633199078c92bd2cc7f46...  11149866.0  2013\n",
      "18  e0bbc5ebabf1a48bc6b8dd0734576d956effcda6dd4388...   3029171.0  2013\n",
      "19  91d035457008c30fabd64b0374a0fdd59b8de2a8b78c25...   6401577.0  2013\n",
      "20  60ee73db6313892e9fb80150895f1036b4a82eca1b8869...   7072056.0  2013\n",
      "21  9dbfb1d9c55b8cabed1b4777cb9bfac0612b51871e9910...      1865.0  2013\n",
      "22  c5befc86757035c01e628345894b840821fbbd05f1ae61...   6325381.0  2013\n",
      "23  720fe4f01ca9d23832ce24c378f95aa11448035cc13c61...   2326308.0  2013\n",
      "24  bde8845b8543dc8c9ec44c5589d7ea719ea6e1a64e6c9f...     39575.0  2013\n",
      "25  c493b1b12316e8fe088ad1173e4fe25a0457cf471b90f7...   3718959.0  2013\n",
      "26  e761304f5b8935b63c32d203f40302ca1bdc80f6ee01b3...   8188384.0  2013\n",
      "27  7075c4988c577798c58b800dbb9742376dbbb74a84ce6e...   7333779.0  2013\n",
      "28  2de908db9a91d7301bb807cb3befb092642bcba9593537...   5864339.0  2013\n",
      "29  98a95d707395a3b4d8d61453fca9809ae196c65cc25563...      3230.0  2013\n"
     ]
    }
   ],
   "source": [
    "#Yearly income of taxi drivers.\n",
    "yearly_income_query = \"\"\"SELECT taxi_id,\n",
    "                    SUM(fare) as yearly_pay,\n",
    "                    EXTRACT(YEAR FROM trip_start_timestamp) AS year\n",
    "                    FROM `bigquery-public-data.chicago_taxi_trips.taxi_trips`\n",
    "                    GROUP BY year, taxi_id;\n",
    "                 \"\"\"\n",
    "safe_config = bigquery.QueryJobConfig(maximum_bytes_billed=16477323265)\n",
    "query_job= client.query(yearly_income_query, job_config=safe_config)\n",
    "\n",
    "# API request - run the query, and return a pandas DataFrame\n",
    "income = query_job.to_dataframe()\n",
    "\n",
    "# View results\n",
    "print(income.head(30))"
   ]
  },
  {
   "cell_type": "code",
   "execution_count": 89,
   "metadata": {},
   "outputs": [
    {
     "data": {
      "text/plain": [
       "'We can notice a dip in income during 2015-2016 due to less number of rides.'"
      ]
     },
     "execution_count": 89,
     "metadata": {},
     "output_type": "execute_result"
    }
   ],
   "source": [
    "\"\"\"We can notice a dip in income during 2015-2016 due to less number of rides.\"\"\""
   ]
  },
  {
   "cell_type": "code",
   "execution_count": 90,
   "metadata": {
    "scrolled": false
   },
   "outputs": [
    {
     "data": {
      "text/plain": [
       "year\n",
       "2013    6.023679e+06\n",
       "2014    5.025668e+06\n",
       "2015    4.620420e+06\n",
       "2016    3.601332e+06\n",
       "2017    2.064944e+06\n",
       "Name: yearly_pay, dtype: float64"
      ]
     },
     "execution_count": 90,
     "metadata": {},
     "output_type": "execute_result"
    }
   ],
   "source": [
    "#Now avg income each year\n",
    "income.groupby('year').yearly_pay.mean()"
   ]
  },
  {
   "cell_type": "code",
   "execution_count": 91,
   "metadata": {
    "scrolled": true
   },
   "outputs": [
    {
     "data": {
      "text/plain": [
       "'Even average income takes a dip in 2016 and 2017'"
      ]
     },
     "execution_count": 91,
     "metadata": {},
     "output_type": "execute_result"
    }
   ],
   "source": [
    "\"\"\"Even average income takes a dip in 2016 and 2017\"\"\""
   ]
  },
  {
   "cell_type": "code",
   "execution_count": 18,
   "metadata": {
    "scrolled": true
   },
   "outputs": [
    {
     "data": {
      "text/plain": [
       "year\n",
       "2013    5525678.0\n",
       "2014    5088252.5\n",
       "2015    4971754.0\n",
       "2016    3367970.0\n",
       "2017    2251600.0\n",
       "Name: yearly_pay, dtype: float64"
      ]
     },
     "execution_count": 18,
     "metadata": {},
     "output_type": "execute_result"
    }
   ],
   "source": [
    "#Now median income each year\n",
    "income.groupby('year').yearly_pay.median()"
   ]
  },
  {
   "cell_type": "code",
   "execution_count": 26,
   "metadata": {},
   "outputs": [
    {
     "name": "stdout",
     "output_type": "stream",
     "text": [
      "      number_of_rides       pay\n",
      "0                   1   77089.0\n",
      "1                   1  667125.0\n",
      "2                   1   26065.0\n",
      "3                   1   25045.0\n",
      "4                   1    5016.0\n",
      "5                   1    2838.0\n",
      "6                   1    2328.0\n",
      "7                   1    8840.0\n",
      "8                   1    3538.0\n",
      "9                   1    5432.0\n",
      "10                  1   23205.0\n",
      "11                  1    5410.0\n",
      "12                  1    8948.0\n",
      "13                  1   11570.0\n",
      "14                  1    5272.0\n",
      "15                  1   15770.0\n",
      "16                  1    8467.0\n",
      "17                  1    1352.0\n",
      "18                  1   19002.0\n",
      "19                  1  200154.0\n",
      "20                  1     223.0\n",
      "21                  1   26145.0\n",
      "22                  1   56500.0\n",
      "23                  1   55305.0\n",
      "24                  1   43385.0\n",
      "25                  1    4408.0\n",
      "26                  1    7296.0\n",
      "27                  1    6102.0\n",
      "28                  1   45454.0\n",
      "29                  1   28325.0\n",
      "...               ...       ...\n",
      "8481           285234    1005.0\n",
      "8482           294936     425.0\n",
      "8483           295167     985.0\n",
      "8484           310310     965.0\n",
      "8485           329105     845.0\n",
      "8486           345453     925.0\n",
      "8487           364967     905.0\n",
      "8488           382722     885.0\n",
      "8489           398653     445.0\n",
      "8490           407827     865.0\n",
      "8491           445289     485.0\n",
      "8492           460647     825.0\n",
      "8493           487190     805.0\n",
      "8494           504147     465.0\n",
      "8495           510376     785.0\n",
      "8496           539643     765.0\n",
      "8497           571447     745.0\n",
      "8498           611280     725.0\n",
      "8499           644724     705.0\n",
      "8500           674707     685.0\n",
      "8501           681124     505.0\n",
      "8502           705078     665.0\n",
      "8503           713173     325.0\n",
      "8504           731765     645.0\n",
      "8505           732419     525.0\n",
      "8506           758368     545.0\n",
      "8507           761439     625.0\n",
      "8508           776666     605.0\n",
      "8509           778089     585.0\n",
      "8510           778754     565.0\n",
      "\n",
      "[8511 rows x 2 columns]\n",
      "number_of_rides    778754.0\n",
      "pay                996666.0\n",
      "dtype: float64\n",
      "number_of_rides    1.0\n",
      "pay                0.0\n",
      "dtype: float64\n"
     ]
    }
   ],
   "source": [
    "#median effect on earnings,in the year 2015\n",
    "fare_variation_2015_query = \"\"\"SELECT COUNT(*) as number_of_rides,\n",
    "                                fare as pay\n",
    "                                FROM `bigquery-public-data.chicago_taxi_trips.taxi_trips`\n",
    "                                WHERE EXTRACT(YEAR FROM trip_start_timestamp) = 2015\n",
    "                                AND fare<=4971754.0\n",
    "                                GROUP BY fare\n",
    "                                ORDER BY number_of_rides ASC;\n",
    "                 \"\"\"\n",
    "safe_config = bigquery.QueryJobConfig(maximum_bytes_billed=16477323265)\n",
    "query_job= client.query(fare_variation_2015_query , job_config=safe_config)\n",
    "\n",
    "# API request - run the query, and return a pandas DataFrame\n",
    "fare_variation_2015 = query_job.to_dataframe()\n",
    "\n",
    "# View results\n",
    "print(fare_variation_2015)\n",
    "print(fare_variation_2015.max())\n",
    "print(fare_variation_2015.min())"
   ]
  },
  {
   "cell_type": "code",
   "execution_count": 30,
   "metadata": {},
   "outputs": [
    {
     "data": {
      "text/plain": [
       "'we can see that median income is taking a dip every year from 2013.And also number of trips close to median of given year is more.\\nLow earning taxis had less number of rides.And we see a dip of 3975088 in the year 2015 WRT its median.'"
      ]
     },
     "execution_count": 30,
     "metadata": {},
     "output_type": "execute_result"
    }
   ],
   "source": [
    "\"\"\"we can see that median income is taking a dip every year from 2013.And also number of trips close to median of given year is more.\n",
    "Low earning taxis had less number of rides.And we see a dip of 3975088 in the year 2015 WRT its median.\"\"\""
   ]
  },
  {
   "cell_type": "code",
   "execution_count": 20,
   "metadata": {},
   "outputs": [
    {
     "name": "stdout",
     "output_type": "stream",
     "text": [
      "    number_of_rides  location\n",
      "0          16782342       NaN\n",
      "1            378175       1.0\n",
      "2            367825       2.0\n",
      "3           1643982       3.0\n",
      "4            481611       4.0\n",
      "5            651750       5.0\n",
      "6           6815397       6.0\n",
      "7           5477208       7.0\n",
      "8          32104338       8.0\n",
      "9              3138       9.0\n",
      "10            52488      10.0\n",
      "11           131904      11.0\n",
      "12            22561      12.0\n",
      "13            58588      13.0\n",
      "14           219827      14.0\n",
      "15            80221      15.0\n",
      "16           389669      16.0\n",
      "17            17493      17.0\n",
      "18             5522      18.0\n",
      "19            29749      19.0\n",
      "20            14853      20.0\n",
      "21           285627      21.0\n",
      "22          1184590      22.0\n",
      "23            43345      23.0\n",
      "24          3575711      24.0\n",
      "25            48070      25.0\n",
      "26             6083      26.0\n",
      "27            15766      27.0\n",
      "28          8481004      28.0\n",
      "29            13981      29.0\n",
      "..              ...       ...\n",
      "47              911      47.0\n",
      "48             5645      48.0\n",
      "49            15700      49.0\n",
      "50             1532      50.0\n",
      "51             3607      51.0\n",
      "52              754      52.0\n",
      "53             2368      53.0\n",
      "54              444      54.0\n",
      "55              604      55.0\n",
      "56          1619459      56.0\n",
      "57             7014      57.0\n",
      "58            14656      58.0\n",
      "59            82750      59.0\n",
      "60            39890      60.0\n",
      "61            13401      61.0\n",
      "62             6535      62.0\n",
      "63             4607      63.0\n",
      "64             9202      64.0\n",
      "65             4835      65.0\n",
      "66             6104      66.0\n",
      "67             5608      67.0\n",
      "68             9123      68.0\n",
      "69            14261      69.0\n",
      "70             6006      70.0\n",
      "71             7057      71.0\n",
      "72             2229      72.0\n",
      "73             3809      73.0\n",
      "74              525      74.0\n",
      "75             2279      75.0\n",
      "76          5853830      76.0\n",
      "\n",
      "[77 rows x 2 columns]\n"
     ]
    }
   ],
   "source": [
    "#getting number of trips to a particular city\n",
    "city_and_trips_query = \"\"\"SELECT COUNT(*) as number_of_rides,\n",
    "                    pickup_community_area as location\n",
    "                    FROM `bigquery-public-data.chicago_taxi_trips.taxi_trips`\n",
    "                    GROUP BY location\n",
    "                    ORDER BY location ASC;\n",
    "                 \"\"\"\n",
    "safe_config = bigquery.QueryJobConfig(maximum_bytes_billed=16477323265)\n",
    "query_job = client.query(city_and_trips_query, job_config=safe_config)\n",
    "citytrips = query_job.to_dataframe()\n",
    "print(citytrips.head(77))"
   ]
  },
  {
   "cell_type": "code",
   "execution_count": 94,
   "metadata": {},
   "outputs": [
    {
     "data": {
      "text/plain": [
       "number_of_rides    32104338.0\n",
       "location                 77.0\n",
       "dtype: float64"
      ]
     },
     "execution_count": 94,
     "metadata": {},
     "output_type": "execute_result"
    }
   ],
   "source": [
    "citytrips.max()"
   ]
  },
  {
   "cell_type": "code",
   "execution_count": 95,
   "metadata": {},
   "outputs": [
    {
     "data": {
      "text/plain": [
       "number_of_rides    444.0\n",
       "location             1.0\n",
       "dtype: float64"
      ]
     },
     "execution_count": 95,
     "metadata": {},
     "output_type": "execute_result"
    }
   ],
   "source": [
    "citytrips.min()"
   ]
  },
  {
   "cell_type": "code",
   "execution_count": 21,
   "metadata": {},
   "outputs": [
    {
     "data": {
      "text/plain": [
       "'We see that location=8.0 is the most popular destination among travellers and location=54.0 being least popular'"
      ]
     },
     "execution_count": 21,
     "metadata": {},
     "output_type": "execute_result"
    }
   ],
   "source": [
    "\"\"\"We see that location=8.0 is the most popular destination among travellers and location=54.0 being least popular\"\"\""
   ]
  },
  {
   "cell_type": "code",
   "execution_count": 37,
   "metadata": {},
   "outputs": [
    {
     "name": "stdout",
     "output_type": "stream",
     "text": [
      "taxi rides in day-time\n",
      "                                                taxi_id  number_of_rides\n",
      "0     0004366432bcef5a9526884fdec76bca727b29345266e7...               31\n",
      "1     0008de7a146802839c9e6059f482d292ebdae13c5c31dd...             3160\n",
      "2     001330b81e23412049f9c3eff5b6e972a91afe59c9aa36...             5035\n",
      "3     0013da5489fe976daf4f4a7d246073ecf2caed9b12b3be...             1709\n",
      "4     0041f8f0c91881c1e1913f2548522495fe3c4c719aa67f...                1\n",
      "5     0044e6c0d091476299b99345501f756b23632a96cbaf40...             2985\n",
      "6     00752524a4118a162dce62ff49c0eb0f79530d9e0ecb5a...             6910\n",
      "7     00792d5dbcf63ba172ce8e232d955ed51d7d3f13466aa8...              270\n",
      "8     0083fcde0fb490b4ec424c63d1d750378f6ad11154d1d4...             9502\n",
      "9     008c43f04857eb09949b8ce05458d3fc8848dfd460d925...            16163\n",
      "10    008ca9f6e7dff925f1a18284fb269fc3c781977db68d15...             8964\n",
      "11    008dda45db57cb6daa679a86ce8c8149ddc05446d545b1...              482\n",
      "12    008e09771fc5d90e65eec92b1bec3a46d753cc1acabf61...             5694\n",
      "13    008e4411af8ea511e3990a1d25eb3bd4ef68314d8c2f8f...            20405\n",
      "14    0090109cb1452e88ee6894c4bfc76d85938b422572d62a...            12573\n",
      "15    0090787181662a792d7a7adbc00cf267181d2d55994971...             7577\n",
      "16    0097753fe60f11c95766e0c88d0b7fc93806043ea4713c...             8176\n",
      "17    00abafdcba1de45e90156f8ebcbc3c8239c9716ff8f746...              300\n",
      "18    00ae5f4d40df8f874497c17a3315ec765876eae63b8117...            10209\n",
      "19    00aeef49089b36ed668920fac1119a26fb25d1b48102a4...             6879\n",
      "20    00b748881be01a2d40ef5c65907ffdb86d732a2a50c024...            10575\n",
      "21    00b77d117dfa8fbd5ec79057aa792db228378f9af0d36e...             2661\n",
      "22    00c0020de20ee2cd36c1d41058360c24dad77a52639413...              402\n",
      "23    00c152d49563ae56e208fde25f6c65b08511d0f50259d1...                2\n",
      "24    00ce2d9c23209022f971cf517dbf6db5dec1bd49464e47...                8\n",
      "25    00e34f77f4495a6128d5b3312099c8f2f4ea25c2650e83...               23\n",
      "26    00e429599be4560df9a0258e984d48a168d6f531a15fed...             3208\n",
      "27    00ee706fe8268bfbefed06d283b03b1452a622ff792d5f...               25\n",
      "28    00f011f177d14242f8a1eb4315abe2f7b82be989761ed1...              300\n",
      "29    00f36a80a041ec71fe705fb3a810cbe6ba1a92c73b1996...               39\n",
      "...                                                 ...              ...\n",
      "8430  ff31006332ba8816d747b0d2e002d6aaf4187fd1f3728c...             5480\n",
      "8431  ff3c503895634521a0d68b4f6cde0e4b21f23b9239ef32...               24\n",
      "8432  ff4e08928c034ee1ff1155d943718f52fa77283f7d8d3b...             3262\n",
      "8433  ff4f3efd45d09093a8765ae6e6aace89b935fbdb80fb22...            23053\n",
      "8434  ff59cda78c6ab2dc273fc8a17896b35a5be09bb6338a67...              677\n",
      "8435  ff5a3bcec871b7dd99b5eb851c17f4198eec9e3d4d1ece...              103\n",
      "8436  ff5fb53b81eb9f8ddad742d22fbb76ab174a24ff61d88b...               86\n",
      "8437  ff60dabe17243a25435dcaf430a8b31615374bfc6be841...               89\n",
      "8438  ff650cbcf1ba62caac94578e2e96316c742818a3bcf4ac...             1172\n",
      "8439  ff6aa87ad2487541184808bdb9202867f5ec8ff5db6adf...             5882\n",
      "8440  ff77c388793ba916ad444aaa66e010eb825d721c810ff4...             7167\n",
      "8441  ff8391eff75559d6fd22b704d4b2c69422ca8dc8ed0ac4...             8236\n",
      "8442  ff845f385ad6c751d6b3078dd91baf8e5f34f8cfa9cd74...              356\n",
      "8443  ff9b1a735b19a21ab1a3880e05a800bfa8ff8c1f3f60e0...             3085\n",
      "8444  ffa006c14e54b463189c69f05ad3af2b89d20bb60e68b3...            13171\n",
      "8445  ffa3c4f1542cd6524d4f573cf295d6e06a84aaa8a5eb3b...              137\n",
      "8446  ffa4a7ea614ef7d2eac427f6f1a0af6a5298a57224da0b...             9366\n",
      "8447  ffa73f19a31ee66ac0053c8aed5fb1f90d748c7f45d5e4...             6633\n",
      "8448  ffaaf46aa7ece68af0c0bd7294b6d8db88c0aa8c801ba4...               56\n",
      "8449  ffb8cefb331d92d05289bb6d84fba73aac7ed8252c6f4b...            15267\n",
      "8450  ffc2a618ad19a63fa5e9ce8b1bd68656172b2eac505f0a...            27281\n",
      "8451  ffca3461580b38396fe306b857f8b4de152b09de489a28...             8088\n",
      "8452  ffd231d2536b9463d888cfbb42f36d543b37d22d96a6dd...             9094\n",
      "8453  ffd70d111c7da2e5eff27ad900c8eb94d74fe286bb7aa5...               45\n",
      "8454  ffda53354c610fd3af1aee46d723028a49014e35f7280c...              174\n",
      "8455  ffe37a1527449eac0fc3d72c9032ee2dc0eff65bb6e7f4...             4678\n",
      "8456  ffe8d8153b8f68cd20871ae5710f9b799bcc517b40ece7...               38\n",
      "8457  ffef3b7e2f2b7b6d5eef07fd1dfa3cc0eb426d7c225520...              149\n",
      "8458  fff3279af11dfade5e308184a5cc6c1ca2d33764634d96...              605\n",
      "8459  fff84aa08ac78890c6e7da64b817cbd9aad6a124104e09...             7049\n",
      "\n",
      "[8460 rows x 2 columns]\n",
      "taxi rides in night-time\n",
      "                                                taxi_id  number_of_rides\n",
      "0     0004366432bcef5a9526884fdec76bca727b29345266e7...               89\n",
      "1     0008de7a146802839c9e6059f482d292ebdae13c5c31dd...            17678\n",
      "2     001330b81e23412049f9c3eff5b6e972a91afe59c9aa36...            14431\n",
      "3     0013da5489fe976daf4f4a7d246073ecf2caed9b12b3be...             9300\n",
      "4     0024d600aa6375c1ccc449f07ca8c47f5a60ced84bf040...                1\n",
      "5     0041f8f0c91881c1e1913f2548522495fe3c4c719aa67f...                1\n",
      "6     0044e6c0d091476299b99345501f756b23632a96cbaf40...            19918\n",
      "7     00752524a4118a162dce62ff49c0eb0f79530d9e0ecb5a...             7540\n",
      "8     00792d5dbcf63ba172ce8e232d955ed51d7d3f13466aa8...              194\n",
      "9     0083fcde0fb490b4ec424c63d1d750378f6ad11154d1d4...            14302\n",
      "10    008c43f04857eb09949b8ce05458d3fc8848dfd460d925...            23098\n",
      "11    008ca9f6e7dff925f1a18284fb269fc3c781977db68d15...            23583\n",
      "12    008dda45db57cb6daa679a86ce8c8149ddc05446d545b1...              564\n",
      "13    008e09771fc5d90e65eec92b1bec3a46d753cc1acabf61...            10788\n",
      "14    008e4411af8ea511e3990a1d25eb3bd4ef68314d8c2f8f...            23230\n",
      "15    0090109cb1452e88ee6894c4bfc76d85938b422572d62a...            18602\n",
      "16    0090787181662a792d7a7adbc00cf267181d2d55994971...            13652\n",
      "17    0097753fe60f11c95766e0c88d0b7fc93806043ea4713c...            18549\n",
      "18    00abafdcba1de45e90156f8ebcbc3c8239c9716ff8f746...              352\n",
      "19    00ae5f4d40df8f874497c17a3315ec765876eae63b8117...            18746\n",
      "20    00aeef49089b36ed668920fac1119a26fb25d1b48102a4...            14884\n",
      "21    00b748881be01a2d40ef5c65907ffdb86d732a2a50c024...            13648\n",
      "22    00b77d117dfa8fbd5ec79057aa792db228378f9af0d36e...             4694\n",
      "23    00c0020de20ee2cd36c1d41058360c24dad77a52639413...             2098\n",
      "24    00c152d49563ae56e208fde25f6c65b08511d0f50259d1...               11\n",
      "25    00ce2d9c23209022f971cf517dbf6db5dec1bd49464e47...                2\n",
      "26    00e34f77f4495a6128d5b3312099c8f2f4ea25c2650e83...              100\n",
      "27    00e429599be4560df9a0258e984d48a168d6f531a15fed...             8430\n",
      "28    00ee706fe8268bfbefed06d283b03b1452a622ff792d5f...               15\n",
      "29    00f011f177d14242f8a1eb4315abe2f7b82be989761ed1...              500\n",
      "...                                                 ...              ...\n",
      "8738  ff31006332ba8816d747b0d2e002d6aaf4187fd1f3728c...             6057\n",
      "8739  ff3c503895634521a0d68b4f6cde0e4b21f23b9239ef32...               51\n",
      "8740  ff4e08928c034ee1ff1155d943718f52fa77283f7d8d3b...            13712\n",
      "8741  ff4f3efd45d09093a8765ae6e6aace89b935fbdb80fb22...            27434\n",
      "8742  ff59cda78c6ab2dc273fc8a17896b35a5be09bb6338a67...             6212\n",
      "8743  ff5a3bcec871b7dd99b5eb851c17f4198eec9e3d4d1ece...              152\n",
      "8744  ff5fb53b81eb9f8ddad742d22fbb76ab174a24ff61d88b...              126\n",
      "8745  ff60dabe17243a25435dcaf430a8b31615374bfc6be841...               73\n",
      "8746  ff650cbcf1ba62caac94578e2e96316c742818a3bcf4ac...             1354\n",
      "8747  ff6aa87ad2487541184808bdb9202867f5ec8ff5db6adf...             5350\n",
      "8748  ff77c388793ba916ad444aaa66e010eb825d721c810ff4...            15780\n",
      "8749  ff8391eff75559d6fd22b704d4b2c69422ca8dc8ed0ac4...            15042\n",
      "8750  ff845f385ad6c751d6b3078dd91baf8e5f34f8cfa9cd74...              323\n",
      "8751  ff9b1a735b19a21ab1a3880e05a800bfa8ff8c1f3f60e0...             6018\n",
      "8752  ffa006c14e54b463189c69f05ad3af2b89d20bb60e68b3...            14871\n",
      "8753  ffa3c4f1542cd6524d4f573cf295d6e06a84aaa8a5eb3b...              104\n",
      "8754  ffa4a7ea614ef7d2eac427f6f1a0af6a5298a57224da0b...            15772\n",
      "8755  ffa73f19a31ee66ac0053c8aed5fb1f90d748c7f45d5e4...             8790\n",
      "8756  ffaaf46aa7ece68af0c0bd7294b6d8db88c0aa8c801ba4...               67\n",
      "8757  ffb8cefb331d92d05289bb6d84fba73aac7ed8252c6f4b...            23786\n",
      "8758  ffc2a618ad19a63fa5e9ce8b1bd68656172b2eac505f0a...            27592\n",
      "8759  ffca3461580b38396fe306b857f8b4de152b09de489a28...            12940\n",
      "8760  ffd231d2536b9463d888cfbb42f36d543b37d22d96a6dd...            17318\n",
      "8761  ffd70d111c7da2e5eff27ad900c8eb94d74fe286bb7aa5...               40\n",
      "8762  ffda53354c610fd3af1aee46d723028a49014e35f7280c...               75\n",
      "8763  ffe37a1527449eac0fc3d72c9032ee2dc0eff65bb6e7f4...            15246\n",
      "8764  ffe8d8153b8f68cd20871ae5710f9b799bcc517b40ece7...               20\n",
      "8765  ffef3b7e2f2b7b6d5eef07fd1dfa3cc0eb426d7c225520...              134\n",
      "8766  fff3279af11dfade5e308184a5cc6c1ca2d33764634d96...              281\n",
      "8767  fff84aa08ac78890c6e7da64b817cbd9aad6a124104e09...            10664\n",
      "\n",
      "[8768 rows x 2 columns]\n"
     ]
    }
   ],
   "source": [
    "taxi_ride_query = \"\"\"SELECT taxi_id,\n",
    "                    COUNT(1) AS number_of_rides\n",
    "                    FROM `bigquery-public-data.chicago_taxi_trips.taxi_trips`\n",
    "                    WHERE EXTRACT(HOUR FROM trip_start_timestamp) <=12\n",
    "                    GROUP BY taxi_id\n",
    "                    ORDER by taxi_id;\n",
    "                 \"\"\"\n",
    "safe_config = bigquery.QueryJobConfig(maximum_bytes_billed=16477323265)\n",
    "query_job = client.query(taxi_ride_query, job_config=safe_config)\n",
    "\n",
    "taxi_ride_day= query_job.to_dataframe()\n",
    "print('taxi rides in day-time')\n",
    "print(taxi_ride_day)\n",
    "\n",
    "taxi_ride_query = \"\"\"SELECT taxi_id,\n",
    "                    COUNT(1) AS number_of_rides\n",
    "                    FROM `bigquery-public-data.chicago_taxi_trips.taxi_trips`\n",
    "                    WHERE EXTRACT(HOUR FROM trip_start_timestamp)>=12\n",
    "                    GROUP BY taxi_id\n",
    "                    ORDER by taxi_id;\n",
    "                 \"\"\"\n",
    "safe_config = bigquery.QueryJobConfig(maximum_bytes_billed=16477323265)\n",
    "query_job = client.query(taxi_ride_query, job_config=safe_config)\n",
    "\n",
    "taxi_ride_not_day= query_job.to_dataframe()\n",
    "print('taxi rides in night-time')\n",
    "print(taxi_ride_not_day)\n"
   ]
  },
  {
   "cell_type": "code",
   "execution_count": null,
   "metadata": {},
   "outputs": [
    {
     "data": {
      "text/plain": [
       "[Text(0.5, 1.0, 'nightrides')]"
      ]
     },
     "execution_count": 38,
     "metadata": {},
     "output_type": "execute_result"
    }
   ],
   "source": [
    "a4_dims = (11.7, 8.27)\n",
    "fig, axs = plt.subplots(figsize=a4_dims,ncols=1)\n",
    "ax = sns.lineplot(x=\"taxi_id\", y=\"number_of_rides\", data=taxi_ride_day)\n",
    "ax.set(title=\"dayrides\")\n",
    "a4_dims = (11.7, 8.27)\n",
    "fig, axs = plt.subplots(figsize=a4_dims,ncols=1)\n",
    "ax = sns.lineplot(x=\"taxi_id\", y=\"number_of_rides\", data=taxi_ride_not_day)\n",
    "ax.set(title=\"nightrides\")"
   ]
  },
  {
   "cell_type": "code",
   "execution_count": 22,
   "metadata": {
    "scrolled": true
   },
   "outputs": [
    {
     "name": "stdout",
     "output_type": "stream",
     "text": [
      "      tip_amount  number_of_times_tipped\n",
      "0            0.0                 2765915\n",
      "1            1.0                   31765\n",
      "2            2.0                   20603\n",
      "3            3.0                    6623\n",
      "4            4.0                    3230\n",
      "5            5.0                    7728\n",
      "6            6.0                    2155\n",
      "7            7.0                    1974\n",
      "8            8.0                    5729\n",
      "9            9.0                    1953\n",
      "10          10.0                   15782\n",
      "11          11.0                    1641\n",
      "12          12.0                     758\n",
      "13          13.0                     203\n",
      "14          14.0                     232\n",
      "15          15.0                    9585\n",
      "16          16.0                     166\n",
      "17          17.0                     148\n",
      "18          18.0                     864\n",
      "19          19.0                     192\n",
      "20          20.0                    7384\n",
      "21          21.0                     189\n",
      "22          22.0                     716\n",
      "23          23.0                     158\n",
      "24          24.0                     104\n",
      "25          25.0                    5745\n",
      "26          26.0                     163\n",
      "27          27.0                     155\n",
      "28          28.0                     370\n",
      "29          29.0                     218\n",
      "...          ...                     ...\n",
      "4085      4895.0                       2\n",
      "4086      4900.0                      75\n",
      "4087      4910.0                       1\n",
      "4088      4913.0                       1\n",
      "4089      4915.0                       2\n",
      "4090      4916.0                       1\n",
      "4091      4918.0                       1\n",
      "4092      4920.0                       1\n",
      "4093      4925.0                       3\n",
      "4094      4928.0                       1\n",
      "4095      4935.0                       6\n",
      "4096      4937.0                       1\n",
      "4097      4938.0                       1\n",
      "4098      4940.0                       2\n",
      "4099      4945.0                       2\n",
      "4100      4950.0                      14\n",
      "4101      4954.0                       1\n",
      "4102      4955.0                       3\n",
      "4103      4960.0                       2\n",
      "4104      4961.0                       1\n",
      "4105      4975.0                       8\n",
      "4106      4980.0                       1\n",
      "4107      4984.0                       1\n",
      "4108      4985.0                       2\n",
      "4109      4990.0                       2\n",
      "4110      4991.0                       1\n",
      "4111      4995.0                       5\n",
      "4112      4997.0                       1\n",
      "4113      4999.0                       3\n",
      "4114      5000.0                    1725\n",
      "\n",
      "[4115 rows x 2 columns]\n"
     ]
    }
   ],
   "source": [
    "# how much do people normally tip in a credit card transactions(as tip data is only avaliable for the same).\n",
    "tip_disturbution_query = \"\"\"\n",
    "                        SELECT tips as tip_amount,\n",
    "                        COUNT(1) AS number_of_times_tipped\n",
    "                        FROM `bigquery-public-data.chicago_taxi_trips.taxi_trips`\n",
    "                        WHERE payment_type = 'Credit Card' AND tips <=5000\n",
    "                        GROUP BY tip_amount\n",
    "                        ORDER BY tip_amount\n",
    "                   \"\"\"\n",
    "safe_config = bigquery.QueryJobConfig(maximum_bytes_billed=16477323265)\n",
    "query_job = client.query(tip_disturbution_query, job_config=safe_config)\n",
    "\n",
    "tip_Dis = query_job.to_dataframe()\n",
    "print(tip_Dis)"
   ]
  },
  {
   "cell_type": "code",
   "execution_count": 104,
   "metadata": {},
   "outputs": [
    {
     "data": {
      "text/plain": [
       "tip_amount                 2142.561604\n",
       "number_of_times_tipped    10712.626002\n",
       "dtype: float64"
      ]
     },
     "execution_count": 104,
     "metadata": {},
     "output_type": "execute_result"
    }
   ],
   "source": [
    "tip_Dis.mean()"
   ]
  },
  {
   "cell_type": "code",
   "execution_count": 23,
   "metadata": {
    "scrolled": true
   },
   "outputs": [
    {
     "data": {
      "text/plain": [
       "tip_amount                2059.0\n",
       "number_of_times_tipped      31.0\n",
       "dtype: float64"
      ]
     },
     "execution_count": 23,
     "metadata": {},
     "output_type": "execute_result"
    }
   ],
   "source": [
    "tip_Dis.median()"
   ]
  },
  {
   "cell_type": "code",
   "execution_count": 25,
   "metadata": {},
   "outputs": [
    {
     "data": {
      "text/plain": [
       "tip_amount                1.735938e+06\n",
       "number_of_times_tipped    4.765040e+10\n",
       "dtype: float64"
      ]
     },
     "execution_count": 25,
     "metadata": {},
     "output_type": "execute_result"
    }
   ],
   "source": [
    "tip_Dis.var()"
   ]
  },
  {
   "cell_type": "code",
   "execution_count": 102,
   "metadata": {},
   "outputs": [
    {
     "data": {
      "text/plain": [
       "[Text(0.5, 1.0, 'Tip disturbution')]"
      ]
     },
     "execution_count": 102,
     "metadata": {},
     "output_type": "execute_result"
    },
    {
     "data": {
      "image/png": "[encoded data removed]",
      "text/plain": [
       "<Figure size 842.4x595.44 with 1 Axes>"
      ]
     },
     "metadata": {
      "needs_background": "light"
     },
     "output_type": "display_data"
    }
   ],
   "source": [
    "a4_dims = (11.7, 8.27)\n",
    "fig, axs = plt.subplots(figsize=a4_dims,ncols=1)\n",
    "ax = sns.lineplot(x=\"tip_amount\", y=\"number_of_times_tipped\", data=tip_Dis)\n",
    "ax.set(title=\"Tip disturbution\")"
   ]
  },
  {
   "cell_type": "code",
   "execution_count": 105,
   "metadata": {},
   "outputs": [
    {
     "data": {
      "text/plain": [
       "'Above data shows that most of the tip is between 2000-5000 with average being 2142'"
      ]
     },
     "execution_count": 105,
     "metadata": {},
     "output_type": "execute_result"
    }
   ],
   "source": [
    "\"\"\"Above data shows that most of the tip is between 2000-5000 with average being 2142\"\"\""
   ]
  },
  {
   "cell_type": "code",
   "execution_count": 106,
   "metadata": {},
   "outputs": [
    {
     "name": "stdout",
     "output_type": "stream",
     "text": [
      "                                 Company_name  num_trips\n",
      "0                                        None   41205229\n",
      "1                 0118 - 42111 Godfrey S.Awir      16528\n",
      "2                       0118 - Godfray S.Awir         37\n",
      "3                       0118 - Godfrey S.Awir       3215\n",
      "4             0694 - 59280 Chinesco Trans Inc      11452\n",
      "5                   0694 - Chinesco Trans Inc       1350\n",
      "6                 1085 - 72312 N and W Cab Co      14957\n",
      "7                       1085 - N and W Cab Co       8712\n",
      "8                 1247 - 72807 Daniel Ayertey       9240\n",
      "9                       1247 - Daniel Ayertey       1926\n",
      "10                 1408 - 89599 Donald Barnes       1809\n",
      "11                       1408 - Donald Barnes        223\n",
      "12                     1469 - 64126 Omar Jada       2045\n",
      "13                 2092 - 61288 Sbeih company      14003\n",
      "14                       2092 - Sbeih company        516\n",
      "15                  2192 - 73487 Zeymane Corp      10300\n",
      "16                        2192 - Zeymane Corp       7099\n",
      "17  2241 - 44667 - Felman Corp, Manuel Alonso        711\n",
      "18                 2241 - 44667 Manuel Alonso       2775\n",
      "19                       2241 - Manuel Alonso       1246\n",
      "20                    2733 - 74600 Benny Jona      10280\n",
      "21                          2733 - Benny Jona       5598\n",
      "22                       2767 - Sayed M Badri        794\n",
      "23             2809 - 95474 C & D Cab Co Inc.       7855\n",
      "24               2809 - 95474 C&D Cab Co Inc.        193\n",
      "25               2823 - 73307 Lee Express Inc       1970\n",
      "26                     2823 - 73307 Seung Lee       4603\n",
      "27                           2823 - Seung Lee        414\n",
      "28                  3011 - 66308 JBL Cab Inc.      16826\n",
      "29                        3011 - JBL Cab Inc.       1562\n"
     ]
    }
   ],
   "source": [
    "# getting the number of trips by taxis owned by a company.\n",
    "trips_company_query = \"\"\"\n",
    "                       SELECT company AS Company_name, \n",
    "                              COUNT(1) AS num_trips\n",
    "                       FROM `bigquery-public-data.chicago_taxi_trips.taxi_trips`\n",
    "                       GROUP BY Company_name\n",
    "                       ORDER BY Company_name ASC;\n",
    "                       \"\"\"\n",
    "\n",
    "safe_config = bigquery.QueryJobConfig(maximum_bytes_billed=2042626049)\n",
    "query_job = client.query(trips_company_query,job_config=safe_config)\n",
    "\n",
    "trips_company = query_job.to_dataframe()\n",
    "print(trips_company.head(30))"
   ]
  },
  {
   "cell_type": "code",
   "execution_count": 108,
   "metadata": {
    "scrolled": true
   },
   "outputs": [
    {
     "data": {
      "text/plain": [
       "Company_name    Top Cab Affiliation - credit hold\n",
       "num_trips                                32569932\n",
       "dtype: object"
      ]
     },
     "execution_count": 108,
     "metadata": {},
     "output_type": "execute_result"
    }
   ],
   "source": [
    "trips_company = trips_company.iloc[1:]\n",
    "trips_company.max()"
   ]
  },
  {
   "cell_type": "code",
   "execution_count": 109,
   "metadata": {},
   "outputs": [
    {
     "data": {
      "text/plain": [
       "'The company  Top Cab Affiliation - credit hold has the highest nbumber of taxi rides over the years '"
      ]
     },
     "execution_count": 109,
     "metadata": {},
     "output_type": "execute_result"
    }
   ],
   "source": [
    "\"\"\"The company  Top Cab Affiliation - credit hold has the highest nbumber of taxi rides over the years \"\"\""
   ]
  },
  {
   "cell_type": "code",
   "execution_count": 2,
   "metadata": {
    "scrolled": true
   },
   "outputs": [
    {
     "name": "stdout",
     "output_type": "stream",
     "text": [
      "Areas with the highest number of pickups\n",
      "   pickup_location  num_trips\n",
      "0              8.0   32104338\n",
      "1             32.0   21477142\n",
      "2              NaN   16782342\n",
      "3             28.0    8481004\n",
      "4              6.0    6815397\n",
      "5             76.0    5853830\n",
      "6              7.0    5477208\n",
      "7             24.0    3575711\n",
      "8             33.0    2204222\n",
      "9              3.0    1643982\n",
      " \n",
      "Areas with the highest number of droupoffs\n",
      "   dropoff_location  num_trips\n",
      "0               8.0   28201515\n",
      "1               NaN   19095838\n",
      "2              32.0   18480324\n",
      "3              28.0    9267949\n",
      "4               6.0    7021590\n",
      "5               7.0    6275255\n",
      "6              24.0    4532021\n",
      "7              76.0    3540993\n",
      "8              33.0    2831048\n",
      "9               3.0    1912080\n"
     ]
    }
   ],
   "source": [
    "#Areas with most pickups and dropoffs.\n",
    "print('Areas with the highest number of pickups')\n",
    "trips_pickup_location_query = \"\"\"\n",
    "                       SELECT pickup_community_area AS pickup_location, \n",
    "                              COUNT(1) AS num_trips\n",
    "                       FROM `bigquery-public-data.chicago_taxi_trips.taxi_trips`\n",
    "                       GROUP BY pickup_location\n",
    "                       ORDER BY num_trips DESC;\n",
    "                       \"\"\"\n",
    "\n",
    "safe_config = bigquery.QueryJobConfig(maximum_bytes_billed=2042626049)\n",
    "query_job = client.query(trips_pickup_location_query,job_config=safe_config)\n",
    "\n",
    "trips_location_pickup = query_job.to_dataframe()\n",
    "print(trips_location_pickup.head(10))\n",
    "print(\" \")\n",
    "print('Areas with the highest number of droupoffs')\n",
    "trips_pickup_location_query = \"\"\"\n",
    "                       SELECT dropoff_community_area AS dropoff_location, \n",
    "                              COUNT(1) AS num_trips\n",
    "                       FROM `bigquery-public-data.chicago_taxi_trips.taxi_trips`\n",
    "                       GROUP BY dropoff_location\n",
    "                       ORDER BY num_trips DESC;\n",
    "                       \"\"\"\n",
    "\n",
    "safe_config = bigquery.QueryJobConfig(maximum_bytes_billed=2042626049)\n",
    "query_job = client.query(trips_pickup_location_query,job_config=safe_config)\n",
    "\n",
    "trips_location_dropoff = query_job.to_dataframe()\n",
    "print(trips_location_dropoff.head(10))"
   ]
  },
  {
   "cell_type": "code",
   "execution_count": 5,
   "metadata": {},
   "outputs": [
    {
     "data": {
      "text/plain": [
       "[Text(0.5, 1.0, 'dropoff disturbution')]"
      ]
     },
     "execution_count": 5,
     "metadata": {},
     "output_type": "execute_result"
    },
    {
     "data": {
      "image/png": "[encoded data removed]",
      "text/plain": [
       "<Figure size 842.4x595.44 with 1 Axes>"
      ]
     },
     "metadata": {
      "needs_background": "light"
     },
     "output_type": "display_data"
    },
    {
     "data": {
      "image/png": "[encoded data removed]",
      "text/plain": [
       "<Figure size 842.4x595.44 with 1 Axes>"
      ]
     },
     "metadata": {
      "needs_background": "light"
     },
     "output_type": "display_data"
    }
   ],
   "source": [
    "a4_dims = (11.7, 8.27)\n",
    "fig, axs = plt.subplots(figsize=a4_dims,ncols=1)\n",
    "ax = sns.lineplot(x=\"pickup_location\", y=\"num_trips\", data=trips_location_pickup)\n",
    "ax.set(title=\"pickup disturbution\")\n",
    "a4_dims = (11.7, 8.27)\n",
    "fig, axs = plt.subplots(figsize=a4_dims,ncols=1)\n",
    "ax = sns.lineplot(x=\"dropoff_location\", y=\"num_trips\", data=trips_location_dropoff)\n",
    "ax.set(title=\"dropoff disturbution\")"
   ]
  },
  {
   "cell_type": "code",
   "execution_count": 111,
   "metadata": {},
   "outputs": [
    {
     "data": {
      "text/plain": [
       "'location=8.0 is popular pickup as well as drop location'"
      ]
     },
     "execution_count": 111,
     "metadata": {},
     "output_type": "execute_result"
    }
   ],
   "source": [
    "\"\"\"location=8.0 is popular pickup as well as drop location\"\"\""
   ]
  },
  {
   "cell_type": "code",
   "execution_count": 112,
   "metadata": {},
   "outputs": [
    {
     "name": "stdout",
     "output_type": "stream",
     "text": [
      "    pickup_time_of_day  pickup_counts\n",
      "0                    0        4397400\n",
      "1                    1        3684848\n",
      "2                    2        2952940\n",
      "3                    3        2211475\n",
      "4                    4        1477914\n",
      "5                    5        1165847\n",
      "6                    6        1429594\n",
      "7                    7        2540010\n",
      "8                    8        4149406\n",
      "9                    9        5122258\n",
      "10                  10        5003321\n",
      "11                  11        4999348\n",
      "12                  12        5435438\n",
      "13                  13        5589251\n",
      "14                  14        5543932\n",
      "15                  15        5585340\n",
      "16                  16        5892643\n",
      "17                  17        6473685\n",
      "18                  18        7288397\n",
      "19                  19        7616049\n",
      "20                  20        6992722\n",
      "21                  21        6159410\n",
      "22                  22        5850349\n",
      "23                  23        5298477\n",
      "    dropoff_time_of_day  dropoff_counts\n",
      "0                     0         4604975\n",
      "1                     1         3813559\n",
      "2                     2         3056988\n",
      "3                     3         2353892\n",
      "4                     4         1534449\n",
      "5                     5         1152358\n",
      "6                     6         1284479\n",
      "7                     7         2235900\n",
      "8                     8         3806930\n",
      "9                     9         5009074\n",
      "10                   10         5132624\n",
      "11                   11         4957189\n",
      "12                   12         5308046\n",
      "13                   13         5597513\n",
      "14                   14         5462347\n",
      "15                   15         5470037\n",
      "16                   16         5742275\n",
      "17                   17         6313057\n",
      "18                   18         7178897\n",
      "19                   19         7823328\n",
      "20                   20         7301276\n",
      "21                   21         6322367\n",
      "22                   22         5923780\n",
      "23                   23         5458846\n"
     ]
    }
   ],
   "source": [
    "#peak hours and off hours of the taxis\n",
    "pickup_query = \"\"\"\n",
    "                SELECT EXTRACT(HOUR FROM trip_start_timestamp) AS pickup_time_of_day, \n",
    "                        COUNT(*) AS pickup_counts\n",
    "                FROM `bigquery-public-data.chicago_taxi_trips.taxi_trips`\n",
    "                GROUP BY pickup_time_of_day\n",
    "                ORDER BY pickup_time_of_day ASC;\n",
    "            \"\"\"\n",
    "\n",
    "safe_config = bigquery.QueryJobConfig(maximum_bytes_billed=16477323265)\n",
    "query_job = client.query(pickup_query, job_config=safe_config)\n",
    "\n",
    "pick_hours = query_job.to_dataframe()\n",
    "print(pick_hours)\n",
    "\n",
    "dropoff_query = \"\"\"\n",
    "                SELECT EXTRACT(HOUR FROM trip_end_timestamp) AS dropoff_time_of_day, \n",
    "                        COUNT(*) AS dropoff_counts\n",
    "                FROM `bigquery-public-data.chicago_taxi_trips.taxi_trips`\n",
    "                WHERE EXTRACT(HOUR FROM trip_end_timestamp)>=0\n",
    "                GROUP BY dropoff_time_of_day\n",
    "                ORDER BY dropoff_time_of_day ASC;\n",
    "            \"\"\"\n",
    "safe_config = bigquery.QueryJobConfig(maximum_bytes_billed=16477323265)\n",
    "query_job = client.query(dropoff_query, job_config=safe_config)\n",
    "\n",
    "drop_hours = query_job.to_dataframe()\n",
    "#drop_hours = drop_hours.iloc[1:]\n",
    "print(drop_hours)\n"
   ]
  },
  {
   "cell_type": "code",
   "execution_count": 115,
   "metadata": {
    "scrolled": true
   },
   "outputs": [
    {
     "data": {
      "text/plain": [
       "[Text(0.5, 1.0, 'Number of dropoffs at Different Time')]"
      ]
     },
     "execution_count": 115,
     "metadata": {},
     "output_type": "execute_result"
    },
    {
     "data": {
      "image/png": "[encoded data removed]",
      "text/plain": [
       "<Figure size 842.4x595.44 with 2 Axes>"
      ]
     },
     "metadata": {
      "needs_background": "light"
     },
     "output_type": "display_data"
    }
   ],
   "source": [
    "a4_dims = (11.7, 8.27)\n",
    "fig, axs = plt.subplots(figsize=a4_dims,ncols=2)\n",
    "ax = sns.lineplot(x=\"pickup_time_of_day\", y=\"pickup_counts\", data=pick_hours,ax=axs[0])\n",
    "ax.set(title=\"Number of pickups at Different Time\")\n",
    "ax = sns.lineplot(x=\"dropoff_time_of_day\", y=\"dropoff_counts\", data=drop_hours,ax=axs[1])\n",
    "ax.set(title=\"Number of dropoffs at Different Time\")"
   ]
  },
  {
   "cell_type": "code",
   "execution_count": 116,
   "metadata": {},
   "outputs": [
    {
     "data": {
      "text/plain": [
       "'Clearly from graph we have peak hour is between 18-20 hrs i.e(6pm-8pm) and off-hour is 3-6 hrs i,e(3am-6am)'"
      ]
     },
     "execution_count": 116,
     "metadata": {},
     "output_type": "execute_result"
    }
   ],
   "source": [
    "\"\"\"Clearly from graph we have peak hour is between 18-20 hrs i.e(6pm-8pm) and off-hour is 3-6 hrs i,e(3am-6am)\"\"\""
   ]
  },
  {
   "cell_type": "code",
   "execution_count": 117,
   "metadata": {},
   "outputs": [
    {
     "name": "stdout",
     "output_type": "stream",
     "text": [
      "    time_of_day  num_trips\n",
      "0             0    4604975\n",
      "1             1    3813559\n",
      "2             2    3056988\n",
      "3             3    2353892\n",
      "4             4    1534449\n",
      "5             5    1152358\n",
      "6             6    1284479\n",
      "7             7    2235900\n",
      "8             8    3806930\n",
      "9             9    5009074\n",
      "10           10    5132624\n",
      "11           11    4957189\n",
      "12           12    5308046\n",
      "13           13    5597513\n",
      "14           14    5462347\n",
      "15           15    5470037\n",
      "16           16    5742275\n",
      "17           17    6313057\n",
      "18           18    7178897\n",
      "19           19    7823328\n",
      "20           20    7301276\n",
      "21           21    6322367\n",
      "22           22    5923780\n",
      "23           23    5458846\n"
     ]
    }
   ],
   "source": [
    "#getting number of trips at different hours of the day.\n",
    "hour_trip_query= \"\"\"\n",
    "                SELECT EXTRACT(HOUR FROM trip_end_timestamp) AS time_of_day, \n",
    "                        COUNT(*) AS num_trips\n",
    "                FROM `bigquery-public-data.chicago_taxi_trips.taxi_trips`\n",
    "                WHERE EXTRACT(HOUR FROM trip_end_timestamp)>=0\n",
    "                GROUP BY time_of_day\n",
    "                ORDER BY time_of_day ASC;\n",
    "            \"\"\"\n",
    "safe_config = bigquery.QueryJobConfig(maximum_bytes_billed=16477323265)\n",
    "query_job = client.query(hour_trip_query, job_config=safe_config)\n",
    "\n",
    "hour_trip = query_job.to_dataframe()\n",
    "\n",
    "print(hour_trip)"
   ]
  },
  {
   "cell_type": "code",
   "execution_count": 120,
   "metadata": {},
   "outputs": [
    {
     "data": {
      "text/plain": [
       "'Even this table show us that between 6pm and 8pm we have most number of trips.'"
      ]
     },
     "execution_count": 120,
     "metadata": {},
     "output_type": "execute_result"
    }
   ],
   "source": [
    "\"\"\"Even this table show us that between 6pm and 8pm we have most number of trips.\"\"\""
   ]
  },
  {
   "cell_type": "code",
   "execution_count": 47,
   "metadata": {},
   "outputs": [
    {
     "name": "stdout",
     "output_type": "stream",
     "text": [
      "      trip_miles  number_of_rides\n",
      "0            NaN              633\n",
      "1           0.00         33452754\n",
      "2           0.01            16902\n",
      "3           0.02            14089\n",
      "4           0.03            20711\n",
      "5           0.04            33362\n",
      "6           0.05            48393\n",
      "7           0.06            62021\n",
      "8           0.07            72032\n",
      "9           0.08            76766\n",
      "10          0.09            77935\n",
      "11          0.10          3910277\n",
      "12          0.11            74415\n",
      "13          0.12            70595\n",
      "14          0.13            65227\n",
      "15          0.14            60760\n",
      "16          0.15            56357\n",
      "17          0.16            51832\n",
      "18          0.17            49031\n",
      "19          0.18            44788\n",
      "20          0.19            40996\n",
      "21          0.20          1783591\n",
      "22          0.21            35062\n",
      "23          0.22            32076\n",
      "24          0.23            30189\n",
      "25          0.24            28263\n",
      "26          0.25            26653\n",
      "27          0.26            25482\n",
      "28          0.27            25061\n",
      "29          0.28            25090\n",
      "...          ...              ...\n",
      "9363     2900.00                1\n",
      "9364     2910.00                2\n",
      "9365     2920.00                1\n",
      "9366     2950.00                2\n",
      "9367     2960.00                1\n",
      "9368     2970.00                2\n",
      "9369     2980.00                2\n",
      "9370     2990.00                1\n",
      "9371     3000.00                1\n",
      "9372     3010.00                1\n",
      "9373     3020.00                2\n",
      "9374     3040.00                2\n",
      "9375     3060.00                1\n",
      "9376     3080.00                3\n",
      "9377     3100.00                1\n",
      "9378     3110.00                1\n",
      "9379     3120.00                1\n",
      "9380     3130.00                1\n",
      "9381     3140.00                1\n",
      "9382     3170.00                1\n",
      "9383     3200.00                1\n",
      "9384     3210.00                1\n",
      "9385     3220.00                1\n",
      "9386     3260.00                1\n",
      "9387     3280.00                1\n",
      "9388     3300.00                1\n",
      "9389     3353.10                1\n",
      "9390     3370.00                1\n",
      "9391     3400.00                1\n",
      "9392     3460.00                1\n",
      "\n",
      "[9393 rows x 2 columns]\n"
     ]
    }
   ],
   "source": [
    "taxi_ride_pattern_query = \"\"\"SELECT trip_miles,\n",
    "                    COUNT(1) AS number_of_rides\n",
    "                    FROM `bigquery-public-data.chicago_taxi_trips.taxi_trips`\n",
    "                    GROUP BY trip_miles\n",
    "                    ORDER by trip_miles ASC;\n",
    "                 \"\"\"\n",
    "safe_config = bigquery.QueryJobConfig(maximum_bytes_billed=16477323265)\n",
    "query_job = client.query(taxi_ride_pattern_query, job_config=safe_config)\n",
    "\n",
    "taxi_ride_pattern= query_job.to_dataframe()\n",
    "print(taxi_ride_pattern)"
   ]
  },
  {
   "cell_type": "code",
   "execution_count": 48,
   "metadata": {
    "scrolled": true
   },
   "outputs": [
    {
     "name": "stdout",
     "output_type": "stream",
     "text": [
      "trip_miles             3460.0\n",
      "number_of_rides    33452754.0\n",
      "dtype: float64\n"
     ]
    }
   ],
   "source": [
    "print(taxi_ride_pattern.max())"
   ]
  },
  {
   "cell_type": "code",
   "execution_count": 49,
   "metadata": {},
   "outputs": [
    {
     "name": "stdout",
     "output_type": "stream",
     "text": [
      "trip_miles         51.895\n",
      "number_of_rides     8.000\n",
      "dtype: float64\n"
     ]
    }
   ],
   "source": [
    "print(taxi_ride_pattern.median())"
   ]
  },
  {
   "cell_type": "code",
   "execution_count": null,
   "metadata": {},
   "outputs": [],
   "source": []
  }
 ],
 "metadata": {
  "kernelspec": {
   "display_name": "Python 3",
   "language": "python",
   "name": "python3"
  },
  "language_info": {
   "codemirror_mode": {
    "name": "ipython",
    "version": 3
   },
   "file_extension": ".py",
   "mimetype": "text/x-python",
   "name": "python",
   "nbconvert_exporter": "python",
   "pygments_lexer": "ipython3",
   "version": "3.7.3"
  }
 },
 "nbformat": 4,
 "nbformat_minor": 2
}
